{
 "cells": [
  {
   "cell_type": "markdown",
   "metadata": {},
   "source": [
    "# Carga Electrica\n",
    "La carga esta cuantizada = $Q=N^{-e}$\n",
    "\n",
    "Carga del electron = $e^-=1.6021$ x $10^{-19}C$\n",
    "\n",
    "# Ley de Coulomb\n",
    "Se trabaja con cargas puntuales, solo por pares.\n",
    "\n",
    "$$\n",
    "F_e=K_e.\\frac{q_1.q_2}{r^2}\n",
    "$$\n",
    "\n",
    "* $K_e=\\frac{1}{4\\pi\\epsilon_0}=9$ X $10^9$ $\\frac{N.m^2}{C^2}$\n",
    "* $q_1$-$q_2$ = Cantidad de carga puntual\n",
    "* $r^2$ = Distancia entre las cargas puntuales \n",
    "\n",
    "Para la fuerza electrica entre cargas, se toma en cuenta la polaridad y la distancia a partir de esto se grafican las fuerzas, iguales se repelen contrarias se atraen y mientras más cercana la carga puntual mayor la fuerza.\n",
    "\n",
    "**EJERCICIO:**\n",
    "\n",
    "![Ejercicio](../CAF2/ImagenesCaf/image.png)\n",
    "\n",
    "**Formula A utiizar:**\n",
    "$$\n",
    "F_e=K_e.\\frac{q_1.q_2}{r^2}\n",
    "$$\n",
    "\n"
   ]
  }
 ],
 "metadata": {
  "language_info": {
   "name": "python"
  }
 },
 "nbformat": 4,
 "nbformat_minor": 2
}
