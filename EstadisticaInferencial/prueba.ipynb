{
 "cells": [
  {
   "cell_type": "code",
   "execution_count": 10,
   "metadata": {},
   "outputs": [
    {
     "name": "stdout",
     "output_type": "stream",
     "text": [
      "3.1622776601683795\n",
      "3.421071261282692\n",
      "0.2616139599689104\n"
     ]
    }
   ],
   "source": [
    "import scipy.stats as stats\n",
    "import math\n",
    "n = 10\n",
    "raiz = math.sqrt(n)\n",
    "Kn = raiz-0.01+(0.85/raiz)\n",
    "Da = 0.895/Kn\n",
    "\n",
    "print (raiz)\n",
    "print(Kn)\n",
    "print(Da)\n"
   ]
  },
  {
   "cell_type": "code",
   "execution_count": 11,
   "metadata": {},
   "outputs": [
    {
     "name": "stdout",
     "output_type": "stream",
     "text": [
      "Estadístico de prueba: 0.9605475068092346\n",
      "Valor p: 0.7920978665351868\n",
      "Valores críticos para n=10 y alpha=0.05: 0.7920978665351868\n"
     ]
    }
   ],
   "source": [
    "from scipy import stats\n",
    "\n",
    "# Datos de ejemplo\n",
    "datos = [0.98, 1.05, 1.15, 1.25, 1.31, 1.42, 1.55, 1.65, 1.75, 1.85]\n",
    "\n",
    "# Realizamos el test de Shapiro-Wilk\n",
    "stat, p_valor = stats.shapiro(datos)\n",
    "\n",
    "# Imprimimos los resultados\n",
    "print(\"Estadístico de prueba:\", stat)\n",
    "print(\"Valor p:\", p_valor)\n",
    "\n",
    "# Obtenemos los valores críticos para n=10 y alpha=0.05\n",
    "valores_criticos = stats.shapiro(np.array(datos))[1]\n",
    "print(\"Valores críticos para n=10 y alpha=0.05:\", valores_criticos)\n"
   ]
  },
  {
   "cell_type": "code",
   "execution_count": 12,
   "metadata": {},
   "outputs": [
    {
     "name": "stdout",
     "output_type": "stream",
     "text": [
      "Coeficientes a_in: 0.9605475068092346\n"
     ]
    }
   ],
   "source": [
    "from scipy import stats\n",
    "\n",
    "# Datos de ejemplo\n",
    "datos = [0.98, 1.05, 1.15, 1.25, 1.31, 1.42, 1.55, 1.65, 1.75, 1.85]\n",
    "\n",
    "# Realizamos el test de Shapiro-Wilk\n",
    "stat, p_valor = stats.shapiro(datos)\n",
    "\n",
    "# Obtenemos los coeficientes a_in\n",
    "a_in = stats.shapiro(np.array(datos))[0]\n",
    "print(\"Coeficientes a_in:\", a_in)\n"
   ]
  }
 ],
 "metadata": {
  "kernelspec": {
   "display_name": "Python 3",
   "language": "python",
   "name": "python3"
  },
  "language_info": {
   "codemirror_mode": {
    "name": "ipython",
    "version": 3
   },
   "file_extension": ".py",
   "mimetype": "text/x-python",
   "name": "python",
   "nbconvert_exporter": "python",
   "pygments_lexer": "ipython3",
   "version": "3.12.0"
  }
 },
 "nbformat": 4,
 "nbformat_minor": 2
}
