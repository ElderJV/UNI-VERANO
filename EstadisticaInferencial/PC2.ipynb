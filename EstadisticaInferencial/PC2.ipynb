{
 "cells": [
  {
   "cell_type": "markdown",
   "metadata": {},
   "source": [
    "# Practica Calificada N°2\n",
    "\n",
    "### Ejercicio N°1\n",
    "Una muestra aleatoria de 100 muertes registradas en Estados Unidos este año muestra una vida promedio de 71.8 años con desviación de 8.9 años ¿Esto parece indicar que la vida media hoy en día es mayor que 70 años? Utilice un nivel de significancia de 5%.\n",
    "\n",
    "**Se empleara:**\n",
    "$$\n",
    "Z_c=\\frac{\\bar{x}-\\mu_{\\mathrm{hip}}}{\\frac\\sigma{\\sqrt{n}}}\n",
    "$$\n",
    "$\\mu_{\\mathrm{hip}}=\\mu_0$\n",
    "\n",
    "Los parámetros relevantes son:\n",
    "- Tamaño de muestra ($n$) = 100\n",
    "- Media Poblacional ($\\mu_{\\mathrm{hip}}$) = 70\n",
    "- Desviacion ( $\\sigma$ ) = 8.9\n",
    "- Media Muestral ($\\bar{X}$) = 71.8\n",
    "- Nivel de significacion ($\\alpha$) = 0.05\n",
    "\n",
    "**Planteamos la hipotesis**\n",
    "* $H_0:\\mu\\leq70$\n",
    "* $H_1:\\mu>70$ "
   ]
  },
  {
   "cell_type": "code",
   "execution_count": 1,
   "metadata": {},
   "outputs": [
    {
     "name": "stdout",
     "output_type": "stream",
     "text": [
      "Se rechaza H0\n",
      "Zc = 2.022\n",
      "Za= 0.95\n",
      "Z tabla = 1.645\n"
     ]
    }
   ],
   "source": [
    "import scipy.stats as st\n",
    "import math\n",
    "\n",
    "# Asignando valores:\n",
    "n = 100\n",
    "Uhip = 70\n",
    "O = 8.9\n",
    "X = 71.8\n",
    "a = 0.05\n",
    "Za = 1-a\n",
    "\n",
    "# Reemplazamos en la formula\n",
    "Zc = round((X-Uhip)/(O/math.sqrt(n)),3)\n",
    "\n",
    "# Calculamos Z\n",
    "Z = round((st.norm.ppf(Za)),3)\n",
    "\n",
    "# Como tenemos <= el rechazo esta a la derecha\n",
    "if Zc<Z:\n",
    "    respuesta=(\"Se acepta H0\")\n",
    "else:\n",
    "    respuesta=(\"Se rechaza H0\")\n",
    "\n",
    "print(respuesta)\n",
    "print(\"Zc =\",Zc)\n",
    "print(\"Za=\",Za)\n",
    "print(\"Z tabla =\",Z)"
   ]
  },
  {
   "cell_type": "markdown",
   "metadata": {},
   "source": [
    "Con un nivel de significación de 0.05, podemos concluir que se rechaza HO.Por tanto la vida media hoy en dia es mayor a 70 años."
   ]
  },
  {
   "cell_type": "markdown",
   "metadata": {},
   "source": [
    "### Ejercicio N°2\n",
    "Para determinar el costo medio mensual de la enseñanza en las universidades A y B, se toma una muestra al azar de 100 alumnos de la universidad A arrojando un costo medio de S/. 550 y una desviación estándar de S/ 30. Una muestra al azar de 120 alumnos de la universidad B da un costo medio de S/. 650 y una desviación estándar de S/. 40. Con α = 0.05, verifique si el costo medio mensual de la enseñanza en las universidades es el mismo.\n",
    "\n",
    "$H_0:\\mu_1=\\mu_2$\n",
    "\n",
    "$H_1:\\mu_1\\neq\\mu_2$\n",
    "\n",
    "*Se empleara:*\n",
    "$$\n",
    "Z_C=\\frac{\\bar{X}_1-\\bar{X}_2-(\\mu_1-\\mu_2)_{hip}}{\\sqrt{\\frac{S_1^2}{n_1}+\\frac{S_2^2}{n_2}}}\n",
    "$$\n",
    "\n",
    "Los parámetros relevantes son:\n",
    "- Tamaño de muestra ($n_1$) = 100\n",
    "- Media muestral ($\\bar{X}_1$) = 550\n",
    "- Desviacion estandar ($S_1$) = 30\n",
    "- Tamaño de muestra ($n_2$) = 120\n",
    "- Media muestral ($\\bar{X}_2$) = 650\n",
    "- Desviacion estandar ($S_2$) = 40\n",
    "- Nivel de significacion ($\\alpha$) = 0.05"
   ]
  },
  {
   "cell_type": "code",
   "execution_count": 2,
   "metadata": {},
   "outputs": [
    {
     "name": "stdout",
     "output_type": "stream",
     "text": [
      "Se rechaza H0\n",
      "Zc = -21.16\n",
      "Za1= 0.975\n",
      "Za2= 0.025\n",
      "Z1 tabla = 1.96\n",
      "Z2 tabla = -1.96\n"
     ]
    }
   ],
   "source": [
    "import scipy.stats as st\n",
    "import math\n",
    "\n",
    "# Asignando valores:\n",
    "n1=100\n",
    "n2=120\n",
    "x1=550\n",
    "x2=650\n",
    "u1=0\n",
    "u2=0\n",
    "s1=30\n",
    "s2=40\n",
    "a = 0.05\n",
    "Za1 = 1-(a/2)\n",
    "Za2 = a/2\n",
    "\n",
    "# Reemplazamos en la formula\n",
    "Zc = round((x1-x2-(u1-u2))/(math.sqrt(s1**2/n1+s2**2/n2)),3)\n",
    "\n",
    "# Calculamos Z\n",
    "Z1 = round((st.norm.ppf(Za1)),3)\n",
    "Z2 = round((st.norm.ppf(Za2)),3)\n",
    "\n",
    "# Como tenemos = entonces la aceptacion esta en el centro\n",
    "if Zc<Z1 and Zc>Z2:\n",
    "    respuesta=(\"Se acepta H0\")\n",
    "else:\n",
    "    respuesta=(\"Se rechaza H0\")\n",
    "\n",
    "print(respuesta)\n",
    "print(\"Zc =\",Zc)\n",
    "print(\"Za1=\",Za1)\n",
    "print(\"Za2=\",Za2)\n",
    "print(\"Z1 tabla =\",Z1)\n",
    "print(\"Z2 tabla =\",Z2)"
   ]
  },
  {
   "cell_type": "markdown",
   "metadata": {},
   "source": [
    "### Ejercicio N°3\n",
    "\n",
    "De una muestra aleatoria de 500 ciudadanos entrevistados en Lima Metropolitana, 400 indicaron que hay problemas de seguridad ¿Indica esta evidencia que más del 75% de los ciudadanos limeños perciben que hay problemas de seguridad? Use el nivel de significación de 0.05\n",
    "\n",
    "**Ubicamos las variable de estudio**\n",
    "\n",
    "* $\\pi_1$= Proporcion de ciudadanos limeños que perciben que hay problemas de seguridad\n",
    "* $X$= Numero de ciudadanos limeños que perciben que hay problemas de seguridad\n",
    "\n",
    "**Planteamos la hipotesis**\n",
    "* $H_0:\\pi_1\\leq0.75$\n",
    "* $H_1:\\pi_1>0.75$ \n",
    "\n",
    "**Se empleara:**\n",
    "$$\n",
    "Z_{cal}=\\frac{p-{\\pi_{hip}}}{\\sqrt{\\frac{\\pi_{hip}(1-{\\pi_{hip}})}n}}\n",
    "$$\n",
    "$$\n",
    "P = X_1/n\n",
    "$$\n",
    "$$\n",
    "Q = 1 - P\n",
    "$$\n",
    "\n",
    "Los parámetros relevantes son:\n",
    "\n",
    "- Valor de Prueba de Hipotesis $\\pi_{hip}$ = 0.75\n",
    "- (*Parametro Local*) Numero de ciudadanos limeños que perciben problemas de seguridad ($X_1$) = 400\n",
    "- Tamaño de muestra ($n$) = 500\n",
    "- Nivel de significancia $\\alpha$ = 0.05\n"
   ]
  },
  {
   "cell_type": "code",
   "execution_count": 6,
   "metadata": {},
   "outputs": [
    {
     "name": "stdout",
     "output_type": "stream",
     "text": [
      "Se rechaza H0\n",
      "P 0.8\n",
      "Zc = 2.582\n",
      "Z tabla = 1.645\n"
     ]
    }
   ],
   "source": [
    "import scipy.stats as st\n",
    "import math\n",
    "\n",
    "# Asignando valores:\n",
    "piHip = 0.75\n",
    "X1 = 400\n",
    "n = 500\n",
    "P = X1/n\n",
    "Q = 1-P\n",
    "a = 0.05\n",
    "\n",
    "# Reemplazamos en la formula\n",
    "Zc = round((P-piHip)/(math.sqrt((piHip*(1-piHip))/n)),3)\n",
    "\n",
    "# Calculamos Z\n",
    "Z = round((st.norm.ppf(1-a)),3)\n",
    "\n",
    "# Como tenemos >= el rechazo esta a la izquierda\n",
    "if Zc<Z:\n",
    "    respuesta=(\"Se acepta H0\")\n",
    "else:\n",
    "    respuesta=(\"Se rechaza H0\")\n",
    "\n",
    "print(respuesta)\n",
    "print(\"P\",P)\n",
    "print(\"Zc =\",Zc)\n",
    "print(\"Z tabla =\",Z)"
   ]
  },
  {
   "cell_type": "markdown",
   "metadata": {},
   "source": [
    "A un nivel de significacion de 0.05 hay suficiente evidencia estadistica para rechazar H0. El % de ciudadanos limeños que perciben que hay problemas de seguridad mayor o igual a 0,75."
   ]
  },
  {
   "cell_type": "markdown",
   "metadata": {},
   "source": [
    "### Ejercicio N°4\n",
    "\n",
    "De muestras de 400 jóvenes de Lima y 300 de Provincias se tuvo que 10% y 29%, respectivamente, dejaron de estudiar este año. Si la diferencia de proporciones de Provincias y Lima el año pasado fue 10%, verifique con 5% de significancia **si ha disminuido** este año.\n",
    "\n",
    "**Sea:**\n",
    "\n",
    "* $\\pi_1$= jóvenes de Lima\n",
    "* $\\pi_2$= jóvenes de\n",
    "\n",
    "**Planteamos la hipotesis**\n",
    "* $H_0:\\pi_1\\geq\\pi_2$\n",
    "* $H_1:\\pi_1<\\pi_2$ \n",
    "\n",
    "**Se empleara:**\n",
    "\n",
    "Donde la proporcion ponderada $\\bar{p}$:\n",
    "$$\n",
    "\\bar{p}=\\frac{X_1+X_2}{n_1+n_2}\n",
    "$$\n",
    "$$\n",
    "Z_{c}=\\frac{p_{1}-p_{2}-(\\pi_{1}-\\pi_{2})_{hip}}{\\sqrt{\\bar{p}\\left(1-\\bar{p}\\right)\\left(\\frac{1}{n_{1}}+\\frac{1}{n_{2}}\\right)}}\n",
    "$$\n",
    "\n",
    "Los parámetros relevantes son:\n",
    "\n",
    "- Estadistico del grupo 1 ($X_1$) = 40\n",
    "- Tamaño de muestra ($n_1$) = 400\n",
    "- Estadistico del grupo 2 ($X_2$) = 87\n",
    "- Tamaño de muestra ($n_2$) = 300\n",
    "- Nivel de significancia $\\alpha$ = 0.05"
   ]
  },
  {
   "cell_type": "code",
   "execution_count": 9,
   "metadata": {},
   "outputs": [
    {
     "name": "stdout",
     "output_type": "stream",
     "text": [
      "Se rechaza H0\n",
      "P= 0.1814\n",
      "Z calculado = -6.456\n",
      "Za1= 0.05\n",
      "Z1 tabla = -1.645\n"
     ]
    }
   ],
   "source": [
    "import scipy.stats as st\n",
    "import math\n",
    "\n",
    "# Asignando valores:\n",
    "X1 = 40\n",
    "X2 = 87\n",
    "n1 = 400\n",
    "n2 = 300\n",
    "a = 0.05\n",
    "Za1 = a\n",
    "#Za2 = 1 - (a/2)\n",
    "Pi1=0\n",
    "Pi2=0\n",
    "p1 = X1/n1\n",
    "p2 = X2/n2\n",
    "\n",
    "# Calculamos la Proporcion Ponderada P\n",
    "P = round(((X1+X2)/(n1+n2)),4)\n",
    "\n",
    "# Reemplazamos en la formula\n",
    "Zc = round((p1 - p2 - (Pi1 - Pi2)) / math.sqrt(P*(1-P)*(1/n1 + 1/n2)), 3)\n",
    "\n",
    "# Calculamos Z\n",
    "Z1 = round((st.norm.ppf(Za1)),3)\n",
    "#Z2 = round((st.norm.ppf(Za2)),3)\n",
    "\n",
    "# Como tenemos > entonces la aceptacion está en el centro\n",
    "if Zc > Z1:\n",
    "    respuesta = \"Se acepta H0\"\n",
    "else:\n",
    "    respuesta = \"Se rechaza H0\"\n",
    "\n",
    "print(respuesta)\n",
    "print(\"P=\",P)\n",
    "print(\"Z calculado =\",Zc)\n",
    "print(\"Za1=\",Za1)\n",
    "#print(\"Za2=\",Za2)\n",
    "print(\"Z1 tabla =\",Z1)\n",
    "#print(\"Z2 tabla =\",Z2)"
   ]
  },
  {
   "cell_type": "markdown",
   "metadata": {},
   "source": [
    "### Ejercicio N°5\n",
    "Un fabricante sostiene que sus autos consumen en promedio 2.50 galones de gasolina cada 100 km. Un vendedor de la compañía comprueba el consumo de gasolina de 25 autos y encuentra que el consumo medio es de 2.61 galones cada 100 km con una desviación estándar de 0.25 galones ¿Se puede decir que la varianza del consumo de gasolina es diferente de 0.38? Use una significancia del 0.05.\n",
    "\n",
    "**Sea:**\n",
    "* $X_1$= Consumo de gasolina\n",
    "\n",
    "**Planteamos la hipotesis**\n",
    "* $H_0:\\sigma^2=0.38$\n",
    "* $H_1:\\sigma^2\\neq0.38$ \n",
    "\n",
    "**Se empleara:**\n",
    "Grado de Libertad $gl$ ó $V$ = $n-1$\n",
    "$$\n",
    "X_{Cal}{}^2=\\frac{(n-1)S^2}{\\sigma^2_{Hip}}\n",
    "$$\n",
    "\n",
    "Los parámetros relevantes son:\n",
    "\n",
    "- Varianza poblacional ($\\sigma^2_{hip}$) = 0.38\n",
    "- Tamaño de muestra ($n$) = 25\n",
    "- Desviacion estandar ($S^2$) = 0.25\n",
    "- Nivel de significancia $\\alpha$ = 0.05"
   ]
  },
  {
   "cell_type": "code",
   "execution_count": 11,
   "metadata": {},
   "outputs": [
    {
     "name": "stdout",
     "output_type": "stream",
     "text": [
      "Se rechaza H0\n",
      "Xc = 10.388\n",
      "X1 tabla = 13.8484\n",
      "X2 tabla = 39.3641\n"
     ]
    }
   ],
   "source": [
    "import scipy.stats as st\n",
    "import math\n",
    "\n",
    "# Asignando valores:\n",
    "n = 25\n",
    "S = 0.25\n",
    "a = 0.05\n",
    "Xa1 = a\n",
    "Xa2 = 1 - (a/2)\n",
    "o = 0.38\n",
    "\n",
    "# Reemplazamos en la formula\n",
    "Xc = round(((n-1)*S**2)/o**2,3)\n",
    "\n",
    "# Calculamos X en la tabla chi-Cuadrado\n",
    "Xt1 = round(st.chi2.ppf(Xa1,n-1),4)\n",
    "Xt2 = round(st.chi2.ppf(Xa2,n-1),4)\n",
    "\n",
    "# Debemos tener en cuenta el condicional, para poder calcular los valores de Z calculado\n",
    "# Como tenemos <= el rechazo esta a la derecha\n",
    "if Xc>Xt1 and Xc>Xt2:\n",
    "    respuesta=(\"Se acepta H0\")\n",
    "else:\n",
    "    respuesta=(\"Se rechaza H0\")\n",
    "\n",
    "print(respuesta)\n",
    "print(\"Xc =\",Xc)\n",
    "print(\"X1 tabla =\",Xt1)\n",
    "print(\"X2 tabla =\",Xt2)"
   ]
  }
 ],
 "metadata": {
  "kernelspec": {
   "display_name": "Python 3",
   "language": "python",
   "name": "python3"
  },
  "language_info": {
   "codemirror_mode": {
    "name": "ipython",
    "version": 3
   },
   "file_extension": ".py",
   "mimetype": "text/x-python",
   "name": "python",
   "nbconvert_exporter": "python",
   "pygments_lexer": "ipython3",
   "version": "3.11.5"
  }
 },
 "nbformat": 4,
 "nbformat_minor": 2
}
