{
 "cells": [
  {
   "cell_type": "markdown",
   "metadata": {},
   "source": [
    "## Varianza Poblacional Conocida\n",
    "\n",
    "Un fabricante debe decidir si continua con el sistema de produccion actual o cambiarlo por uno nuevo. Se debe que el tiempo promedio que utiliza el sistema actual es de 4.5 minutos y una desviación estándar de 0.4 minutos. El fabricante reemplazaría el actual sistema de producción sólo si el nuevo sistema resulta más rápido en promedio y menos variabilidad que el nuevo. Si con el nuevo sistema una muestra de 16 tiempos ha dado una media de 4.285 y una desviación estándar de 0.208. ¿Cuál seria la decisión a tomar? Usar un nivel de significación de 0.05.\n",
    "\n",
    "**Se empleara:**\n",
    "$$\n",
    "Z_c=\\frac{\\bar{x}-\\mu_{\\mathrm{hip}}}{\\frac\\sigma{\\sqrt{n}}}\n",
    "$$\n",
    "$\\mu_{\\mathrm{hip}}=\\mu_0$\n",
    "\n",
    "Los parámetros relevantes son:\n",
    "- Tamaño de muestra ($n$) = 16\n",
    "- Media Poblacional ($\\mu_{\\mathrm{hip}}$) = 4.5\n",
    "- Varianza Poblacional o desviacion estandar ( $\\sigma$ ) = 0.4\n",
    "- Media ($\\bar{X}$) = 4.285 \n",
    "- Nivel de significacion ($\\alpha$) = 0.05\n",
    "\n",
    "**Planteamos la hipotesis**\n",
    "* $H_0:\\mu\\leq4.5$\n",
    "* $H_1:\\mu>4.5$ "
   ]
  },
  {
   "cell_type": "code",
   "execution_count": 16,
   "metadata": {},
   "outputs": [
    {
     "name": "stdout",
     "output_type": "stream",
     "text": [
      "Se acepta H0\n",
      "Zc = -2.15\n",
      "Za= 0.95\n",
      "Z tabla = 1.645\n"
     ]
    }
   ],
   "source": [
    "import scipy.stats as st\n",
    "import math\n",
    "\n",
    "# Asignando valores:\n",
    "n = 16\n",
    "Uhip = 4.5\n",
    "O = 0.4\n",
    "X = 4.285\n",
    "a = 0.05\n",
    "Za = 1-a\n",
    "\n",
    "# Reemplazamos en la formula\n",
    "Zc = round((X-Uhip)/(O/math.sqrt(n)),3)\n",
    "\n",
    "# Calculamos Z\n",
    "Z = round((st.norm.ppf(Za)),3)\n",
    "\n",
    "# Como tenemos <= la acptacion esta a la derecha\n",
    "if Zc<Z:\n",
    "    respuesta=(\"Se acepta H0\")\n",
    "else:\n",
    "    respuesta=(\"Se rechaza H0\")\n",
    "\n",
    "print(respuesta)\n",
    "print(\"Zc =\",Zc)\n",
    "print(\"Za=\",Za)\n",
    "print(\"Z tabla =\",Z)"
   ]
  },
  {
   "cell_type": "markdown",
   "metadata": {},
   "source": [
    "Con un nivel de significación de 0.05, podemos concluir que se acepta HO.Por tanto el nuevo sistema presenta un promedio de produccion menor a 4.5 en base a la muestra extraida y el fabricante deberia mantener el actual sistema."
   ]
  },
  {
   "cell_type": "markdown",
   "metadata": {},
   "source": [
    "## Varianza poblacional desconocida\n",
    "\n",
    "El sindicato de empleados de una corporación asegura que la antiguedad promedio de los empleados es al menos de 12 años. En una muestra aleatoria de 49 trabajadores se encontró que Ia antiguedad promedio era de 11,5 años con una desviación típica de 1 año. Pruebe la afirmación del sindicato con un nivel de significación del 0,02.\n",
    "\n",
    "**Se empleara:**\n",
    "$$\n",
    "Z_c=\\frac{\\bar{x}-\\mu_{\\mathrm{hip}}}{\\frac{S}{\\sqrt{n}}}\n",
    "$$\n",
    "\n",
    "Los parámetros relevantes son:\n",
    "- Tamaño de muestra ($n$) = 49\n",
    "- Media Poblacional ($\\mu_{\\mathrm{hip}}$) = 12\n",
    "- Desviacion estandar o muestral ($S$) = 1\n",
    "- Media muestral ($\\bar{X}$) = 11.5\n",
    "- Nivel de significacion ($\\alpha$) = 0.02\n",
    "\n",
    "**Planteamos la hipotesis**\n",
    "* $H_0:\\mu\\geq12$\n",
    "* $H_1:\\mu<12$ "
   ]
  },
  {
   "cell_type": "code",
   "execution_count": 17,
   "metadata": {},
   "outputs": [
    {
     "name": "stdout",
     "output_type": "stream",
     "text": [
      "Se rechaza H0\n",
      "Zc = -3.5\n",
      "Za= 0.98\n",
      "Z tabla = 2.054\n"
     ]
    }
   ],
   "source": [
    "import scipy.stats as st\n",
    "import math\n",
    "\n",
    "# Asignando valores:\n",
    "n = 49\n",
    "Uhip = 12\n",
    "S = 1\n",
    "X = 11.5\n",
    "a = 0.02\n",
    "Za = 1-a\n",
    "\n",
    "# Reemplazamos en la formula\n",
    "Zc = round((X-Uhip)/(S/math.sqrt(n)),3)\n",
    "\n",
    "# Calculamos Z\n",
    "Z = round((st.norm.ppf(Za)),3)\n",
    "\n",
    "# Como tenemos >= entonces la aceptacion esta a la izquierda\n",
    "if Zc>Z:\n",
    "    respuesta=(\"Se acepta H0\")\n",
    "else:\n",
    "    respuesta=(\"Se rechaza H0\")\n",
    "\n",
    "print(respuesta)\n",
    "print(\"Zc =\",Zc)\n",
    "print(\"Za=\",Za)\n",
    "print(\"Z tabla =\",Z)"
   ]
  },
  {
   "cell_type": "markdown",
   "metadata": {},
   "source": [
    "Con un nivel de significación de 0.02, podemos concluir que se rechaza Ho. Por tanto la antigüedad promedio de los empleados es menor a 12 años"
   ]
  },
  {
   "cell_type": "markdown",
   "metadata": {},
   "source": [
    "## Prueba de hipótesis para la diferencia de medias con varianza conocida\n",
    "\n",
    "Usted produce agua embotellada de una marca determinada y desea determinar si el consumo de agua promedio diaria en la costa Atlántica es superior al consumo en los Llanos Orientales.\n",
    "\n",
    "$H_0:U_a<=U_b$\n",
    "\n",
    "$H_1:U_a>U_b$\n",
    "\n",
    "Para ello, realiza las siguientes muestras aleatorias: 150 individuos de la costa atlántica, con un promedio muestral de 280 mililitros de agua diario, y 120 individuos de los llanos, con un promedio muestral de 250 mililitros de agua diarios. Suponga desviaciones poblacionales de 30 mililitros para costa y 35 mililitros para los llanos. ¿Existe evidencia de mayor consumo en la costa? Pruebe a un nivel de significancia de 0.025.\n",
    "\n",
    "**Se empleara:**\n",
    "$$\n",
    "Z_C=\\frac{\\bar{X}_1-\\bar{X}_2-(\\mu_1-\\mu_2)_{hip}}{\\sqrt{\\frac{\\sigma_1^2}{n_1}+\\frac{\\sigma_2^2}{n_2}}}\n",
    "$$\n",
    "\n",
    "Los parámetros relevantes son:\n",
    "- Tamaño de muestra ($n_1$) = 150 \n",
    "- Media muestral ($\\bar{X}_1$) = 280\n",
    "- Desviacion estandar poblacional ($\\sigma_1$) = 30\n",
    "- Tamaño de muestra ($n_2$) = 120\n",
    "- Media muestral ($\\bar{X}_2$) = 250\n",
    "- Desviacion estandar poblacional ($\\sigma_2$) = 35\n",
    "- Nivel de significacion ($\\alpha$) = 0.025"
   ]
  },
  {
   "cell_type": "code",
   "execution_count": 9,
   "metadata": {},
   "outputs": [
    {
     "name": "stdout",
     "output_type": "stream",
     "text": [
      "Se rechaza H0\n",
      "Zc = 7.452\n",
      "Za= 0.975\n",
      "Z tabla = 1.96\n"
     ]
    }
   ],
   "source": [
    "import scipy.stats as st\n",
    "import math\n",
    "\n",
    "# Asignando valores:\n",
    "n1=150\n",
    "n2=120\n",
    "x1=280\n",
    "x2=250\n",
    "u1=0\n",
    "u2=0\n",
    "o1=30\n",
    "o2=35\n",
    "a = 0.025\n",
    "Za = 1-a\n",
    "\n",
    "# Reemplazamos en la formula\n",
    "Zc = round((x1-x2-(u1-u2))/(math.sqrt(o1**2/n1+o2**2/n2)),3)\n",
    "\n",
    "# Calculamos Z\n",
    "Z = round((st.norm.ppf(Za)),3)\n",
    "\n",
    "# Como tenemos <= entonces la aceptacion esta a la derecha\n",
    "if Zc<Z:\n",
    "    respuesta=(\"Se acepta H0\")\n",
    "else:\n",
    "    respuesta=(\"Se rechaza H0\")\n",
    "\n",
    "print(respuesta)\n",
    "print(\"Zc =\",Zc)\n",
    "print(\"Za=\",Za)\n",
    "print(\"Z tabla =\",Z)"
   ]
  },
  {
   "cell_type": "markdown",
   "metadata": {},
   "source": [
    "Con un nivel de significacion de 0.025 existe evidencia muestral para afirmar que el consumo de litros promedio mensual de Ia costa atlantica es mayor al consumo promedio de litros de los Llanos orientales."
   ]
  }
 ],
 "metadata": {
  "kernelspec": {
   "display_name": "Python 3",
   "language": "python",
   "name": "python3"
  },
  "language_info": {
   "codemirror_mode": {
    "name": "ipython",
    "version": 3
   },
   "file_extension": ".py",
   "mimetype": "text/x-python",
   "name": "python",
   "nbconvert_exporter": "python",
   "pygments_lexer": "ipython3",
   "version": "3.12.0"
  }
 },
 "nbformat": 4,
 "nbformat_minor": 2
}
