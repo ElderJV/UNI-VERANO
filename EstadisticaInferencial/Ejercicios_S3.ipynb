{
 "cells": [
  {
   "cell_type": "markdown",
   "metadata": {},
   "source": [
    "## Varianza Poblacional Conocida (Rechazo de Hipotesis a la derecha)\n",
    "\n",
    "Un fabricante debe decidir si continua con el sistema de produccion actual o cambiarlo por uno nuevo. Se debe que el tiempo promedio que utiliza el sistema actual es de 4.5 minutos y una desviación estándar de 0.4 minutos. El fabricante reemplazaría el actual sistema de producción sólo si el nuevo sistema resulta más rápido en promedio y menos variabilidad que el nuevo. Si con el nuevo sistema una muestra de 16 tiempos ha dado una media de 4.285 y una desviación estándar de 0.208. ¿Cuál seria la decisión a tomar? Usar un nivel de significación de 0.05.\n",
    "\n",
    "**Se empleara:**\n",
    "$$\n",
    "Z_c=\\frac{\\bar{x}-\\mu_{\\mathrm{hip}}}{\\frac\\sigma{\\sqrt{n}}}\n",
    "$$\n",
    "$\\mu_{\\mathrm{hip}}=\\mu_0$\n",
    "\n",
    "Los parámetros relevantes son:\n",
    "- Tamaño de muestra ($n$) = 16\n",
    "- Media Poblacional ($\\mu_{\\mathrm{hip}}$) = 4.5\n",
    "- Varianza Poblacional o desviacion estandar ( $\\sigma$ ) = 0.4\n",
    "- Media ($\\bar{X}$) = 4.285 \n",
    "- Nivel de significacion ($\\alpha$) = 0.05\n",
    "\n",
    "**Planteamos la hipotesis**\n",
    "* $H_0:\\mu\\leq4.5$\n",
    "* $H_1:\\mu>4.5$ "
   ]
  },
  {
   "cell_type": "code",
   "execution_count": 16,
   "metadata": {},
   "outputs": [
    {
     "name": "stdout",
     "output_type": "stream",
     "text": [
      "Se acepta H0\n",
      "Zc = -2.15\n",
      "Za= 0.95\n",
      "Z tabla = 1.645\n"
     ]
    }
   ],
   "source": [
    "import scipy.stats as st\n",
    "import math\n",
    "\n",
    "# Asignando valores:\n",
    "n = 16\n",
    "Uhip = 4.5\n",
    "O = 0.4\n",
    "X = 4.285\n",
    "a = 0.05\n",
    "Za = 1-a\n",
    "\n",
    "# Reemplazamos en la formula\n",
    "Zc = round((X-Uhip)/(O/math.sqrt(n)),3)\n",
    "\n",
    "# Calculamos Z\n",
    "Z = round((st.norm.ppf(Za)),3)\n",
    "\n",
    "# Como tenemos <= el rechazo esta a la derecha\n",
    "if Zc<Z:\n",
    "    respuesta=(\"Se acepta H0\")\n",
    "else:\n",
    "    respuesta=(\"Se rechaza H0\")\n",
    "\n",
    "print(respuesta)\n",
    "print(\"Zc =\",Zc)\n",
    "print(\"Za=\",Za)\n",
    "print(\"Z tabla =\",Z)"
   ]
  },
  {
   "cell_type": "markdown",
   "metadata": {},
   "source": [
    "Con un nivel de significación de 0.05, podemos concluir que se acepta HO.Por tanto el nuevo sistema presenta un promedio de produccion menor a 4.5 en base a la muestra extraida y el fabricante deberia mantener el actual sistema."
   ]
  },
  {
   "cell_type": "markdown",
   "metadata": {},
   "source": [
    "## Varianza poblacional desconocida (Rechazo de hipotesis a la izquierda)\n",
    "\n",
    "El sindicato de empleados de una corporación asegura que la antiguedad promedio de los empleados es al menos de 12 años. En una muestra aleatoria de 49 trabajadores se encontró que Ia antiguedad promedio era de 11,5 años con una desviación típica de 1 año. Pruebe la afirmación del sindicato con un nivel de significación del 0,02.\n",
    "\n",
    "**Se empleara:**\n",
    "$$\n",
    "Z_c=\\frac{\\bar{x}-\\mu_{\\mathrm{hip}}}{\\frac{S}{\\sqrt{n}}}\n",
    "$$\n",
    "\n",
    "Los parámetros relevantes son:\n",
    "- Tamaño de muestra ($n$) = 49\n",
    "- Media Poblacional ($\\mu_{\\mathrm{hip}}$) = 12\n",
    "- Desviacion estandar o muestral ($S$) = 1\n",
    "- Media muestral ($\\bar{X}$) = 11.5\n",
    "- Nivel de significacion ($\\alpha$) = 0.02\n",
    "\n",
    "**Planteamos la hipotesis**\n",
    "* $H_0:\\mu\\geq12$\n",
    "* $H_1:\\mu<12$ "
   ]
  },
  {
   "cell_type": "code",
   "execution_count": 17,
   "metadata": {},
   "outputs": [
    {
     "name": "stdout",
     "output_type": "stream",
     "text": [
      "Se rechaza H0\n",
      "Zc = -3.5\n",
      "Za= 0.98\n",
      "Z tabla = 2.054\n"
     ]
    }
   ],
   "source": [
    "import scipy.stats as st\n",
    "import math\n",
    "\n",
    "# Asignando valores:\n",
    "n = 49\n",
    "Uhip = 12\n",
    "S = 1\n",
    "X = 11.5\n",
    "a = 0.02\n",
    "Za = 1-a\n",
    "\n",
    "# Reemplazamos en la formula\n",
    "Zc = round((X-Uhip)/(S/math.sqrt(n)),3)\n",
    "\n",
    "# Calculamos Z\n",
    "Z = round((st.norm.ppf(Za)),3)\n",
    "\n",
    "# Como tenemos >= entonces el rechazo esta a la izquierda\n",
    "if Zc>Z:\n",
    "    respuesta=(\"Se acepta H0\")\n",
    "else:\n",
    "    respuesta=(\"Se rechaza H0\")\n",
    "\n",
    "print(respuesta)\n",
    "print(\"Zc =\",Zc)\n",
    "print(\"Za=\",Za)\n",
    "print(\"Z tabla =\",Z)"
   ]
  },
  {
   "cell_type": "markdown",
   "metadata": {},
   "source": [
    "Con un nivel de significación de 0.02, podemos concluir que se rechaza Ho. Por tanto la antigüedad promedio de los empleados es menor a 12 años"
   ]
  },
  {
   "cell_type": "markdown",
   "metadata": {},
   "source": [
    "## Prueba de hipótesis para la diferencia de medias con varianza conocida\n",
    "\n",
    "Usted produce agua embotellada de una marca determinada y desea determinar si el consumo de agua promedio diaria en la costa Atlántica es superior al consumo en los Llanos Orientales.\n",
    "\n",
    "$H_0:U_a<=U_b$\n",
    "\n",
    "$H_1:U_a>U_b$\n",
    "\n",
    "Para ello, realiza las siguientes muestras aleatorias: 150 individuos de la costa atlántica, con un promedio muestral de 280 mililitros de agua diario, y 120 individuos de los llanos, con un promedio muestral de 250 mililitros de agua diarios. Suponga desviaciones poblacionales de 30 mililitros para costa y 35 mililitros para los llanos. ¿Existe evidencia de mayor consumo en la costa? Pruebe a un nivel de significancia de 0.025.\n",
    "\n",
    "**Se empleara:**\n",
    "$$\n",
    "Z_C=\\frac{\\bar{X}_1-\\bar{X}_2-(\\mu_1-\\mu_2)_{hip}}{\\sqrt{\\frac{\\sigma_1^2}{n_1}+\\frac{\\sigma_2^2}{n_2}}}\n",
    "$$\n",
    "\n",
    "Los parámetros relevantes son:\n",
    "- Tamaño de muestra ($n_1$) = 150 \n",
    "- Media muestral ($\\bar{X}_1$) = 280\n",
    "- Desviacion estandar poblacional ($\\sigma_1$) = 30\n",
    "- Tamaño de muestra ($n_2$) = 120\n",
    "- Media muestral ($\\bar{X}_2$) = 250\n",
    "- Desviacion estandar poblacional ($\\sigma_2$) = 35\n",
    "- Nivel de significacion ($\\alpha$) = 0.025"
   ]
  },
  {
   "cell_type": "code",
   "execution_count": 9,
   "metadata": {},
   "outputs": [
    {
     "name": "stdout",
     "output_type": "stream",
     "text": [
      "Se rechaza H0\n",
      "Zc = 7.452\n",
      "Za= 0.975\n",
      "Z tabla = 1.96\n"
     ]
    }
   ],
   "source": [
    "import scipy.stats as st\n",
    "import math\n",
    "\n",
    "# Asignando valores:\n",
    "n1=150\n",
    "n2=120\n",
    "x1=280\n",
    "x2=250\n",
    "u1=0\n",
    "u2=0\n",
    "o1=30\n",
    "o2=35\n",
    "a = 0.025\n",
    "Za = 1-a\n",
    "\n",
    "# Reemplazamos en la formula\n",
    "Zc = round((x1-x2-(u1-u2))/(math.sqrt(o1**2/n1+o2**2/n2)),3)\n",
    "\n",
    "# Calculamos Z\n",
    "Z = round((st.norm.ppf(Za)),3)\n",
    "\n",
    "# Como tenemos <= entonces el rechazo esta a la derecha\n",
    "if Zc<Z:\n",
    "    respuesta=(\"Se acepta H0\")\n",
    "else:\n",
    "    respuesta=(\"Se rechaza H0\")\n",
    "\n",
    "print(respuesta)\n",
    "print(\"Zc =\",Zc)\n",
    "print(\"Za=\",Za)\n",
    "print(\"Z tabla =\",Z)"
   ]
  },
  {
   "cell_type": "markdown",
   "metadata": {},
   "source": [
    "Con un nivel de significacion de 0.025 existe evidencia muestral para afirmar que el consumo de litros promedio mensual de Ia costa atlantica es mayor al consumo promedio de litros de los Llanos orientales."
   ]
  },
  {
   "cell_type": "markdown",
   "metadata": {},
   "source": [
    "## Varianza Poblacional Desconocida (Hipotesis con rechazo a los extremos)\n",
    "\n",
    "La empresa Industria SAC desea comparar los pesos promedio de los cereales de trigo y cereales de maíz que produce, para tal motivo usa una muestra aleatoria de 50 cereales de trigo y 70 de cereales de maíz. Se sabe que tanto para los cereales de trigo corno para los de maíz los pesos siguen una distribución normal. El promedio de la muestra de cereales de trigo es de 100 libras y su desviación estándar es de 14.142, mientras que el promedio\n",
    "de los pesos de la muestra de los cereales de maíz es de 85 libras y su desviación estándar es de 12.247 libras. Pruebe con un nivel de significación de 0.05 que no existe diferencia en los pesos promedios de cereales y maíz.\n",
    "\n",
    "$H_0:\\mu_1=\\mu_2$\n",
    "\n",
    "$H_1:\\mu_1\\neq\\mu_2$\n",
    "\n",
    "*Se empleara:*\n",
    "$$\n",
    "Z_C=\\frac{\\bar{X}_1-\\bar{X}_2-(\\mu_1-\\mu_2)_{hip}}{\\sqrt{\\frac{S_1^2}{n_1}+\\frac{S_2^2}{n_2}}}\n",
    "$$\n",
    "\n",
    "Los parámetros relevantes son:\n",
    "- Tamaño de muestra ($n_1$) = 50 \n",
    "- Media muestral ($\\bar{X}_1$) = 100\n",
    "- Desviacion estandar poblacional ($S_1$) = 14.142\n",
    "- Tamaño de muestra ($n_2$) = 70\n",
    "- Media muestral ($\\bar{X}_2$) = 85\n",
    "- Desviacion estandar poblacional ($S_2$) = 12.247\n",
    "- Nivel de significacion ($\\alpha$) = 0.05"
   ]
  },
  {
   "cell_type": "code",
   "execution_count": 8,
   "metadata": {},
   "outputs": [
    {
     "name": "stdout",
     "output_type": "stream",
     "text": [
      "Se rechaza H0\n",
      "Zc = 6.052\n",
      "Za1= 0.975\n",
      "Za2= 0.025\n",
      "Z1 tabla = 1.96\n",
      "Z2 tabla = -1.96\n"
     ]
    }
   ],
   "source": [
    "import scipy.stats as st\n",
    "import math\n",
    "\n",
    "# Asignando valores:\n",
    "n1=50\n",
    "n2=70\n",
    "x1=100\n",
    "x2=85\n",
    "u1=0\n",
    "u2=0\n",
    "s1=14.142\n",
    "s2=12.247\n",
    "a = 0.05\n",
    "Za1 = 1-(a/2)\n",
    "Za2 = a/2\n",
    "\n",
    "# Reemplazamos en la formula\n",
    "Zc = round((x1-x2-(u1-u2))/(math.sqrt(s1**2/n1+s2**2/n2)),3)\n",
    "\n",
    "# Calculamos Z\n",
    "Z1 = round((st.norm.ppf(Za1)),3)\n",
    "Z2 = round((st.norm.ppf(Za2)),3)\n",
    "\n",
    "# Como tenemos = entonces la aceptacion esta en el centro\n",
    "if Zc<Z1 and Zc>Z2:\n",
    "    respuesta=(\"Se acepta H0\")\n",
    "else:\n",
    "    respuesta=(\"Se rechaza H0\")\n",
    "\n",
    "print(respuesta)\n",
    "print(\"Zc =\",Zc)\n",
    "print(\"Za1=\",Za1)\n",
    "print(\"Za2=\",Za2)\n",
    "print(\"Z1 tabla =\",Z1)\n",
    "print(\"Z2 tabla =\",Z2)"
   ]
  },
  {
   "cell_type": "markdown",
   "metadata": {},
   "source": [
    "## Varianza poblacional desconocida, pero diferentes ()\n",
    "Un fabricante de monitores prueba dos diseños de microcircuitos para determinar si producen un flujo de corriente equivalente. El departamento de ingeniería ha obtenido los datos siguientes:\n",
    "\n",
    "<div align=\"center\">\n",
    "\n",
    "|Variables|Diseño A|Diseño B|\n",
    "|:-:|:-:|:-:|\n",
    "|$n$|15|10|\n",
    "|$\\bar{x}$|24.2|23.3|\n",
    "|$S^2$|10|20|\n",
    "\n",
    "</div>\n",
    "\n",
    "Con un nivel de significación del 10%, se desea determinar **si existe alguna diferencia** significativa en el flujo de corriente promedio entre los dos diseños, donde se supone que las dos poblaciones son normales, pero no es posible suponer que las varianzas desconocidas $\\sigma^2_1$ y y $\\sigma^2_2$ sean iguales.\n",
    "\n",
    "$H_0:\\mu_1=\\mu_2$\n",
    "\n",
    "$H_1:\\mu_1\\neq\\mu_2$\n",
    "\n",
    "*Se empleara:*\n",
    "\n",
    "**Grados de Libertad: V**\n",
    "$$\n",
    "V=\\frac{\\left(\\frac{s_1}{n_1}^2+\\frac{s_2^2}{n_2}\\right)^2}{\\frac{\\left(\\frac{s_1}{n_1}^2\\right)^2}{n_1-1}+\\frac{\\left(\\frac{s_2}{n_2}^2\\right)^2}{n_2-1}}\n",
    "$$\n",
    "$$\n",
    "T_{Cal}=\\frac{\\bar{X}_1-\\bar{X}_2-(\\mu_1-\\mu_2)_{hip}}{\\sqrt{\\frac{S_1^2}{n_1}+\\frac{S_2^2}{n_2}}}\n",
    "$$\n",
    "\n",
    "Los parámetros relevantes son:\n",
    "- Tamaño de muestra ($n_1$) = 15\n",
    "- Media muestral ($\\bar{X}_1$) = 24.2\n",
    "- Desviacion estandar poblacional ($S^2_1$) = 10\n",
    "- Tamaño de muestra ($n_2$) = 10\n",
    "- Media muestral ($\\bar{X}_2$) = 23.3\n",
    "- Desviacion estandar poblacional ($S^2_2$) = 20\n",
    "- Nivel de significacion ($\\alpha$) = 0.1"
   ]
  },
  {
   "cell_type": "code",
   "execution_count": 17,
   "metadata": {},
   "outputs": [
    {
     "name": "stdout",
     "output_type": "stream",
     "text": [
      "Se acepta H0\n",
      "Grados de libertad = 15\n",
      "Tc = 0.132\n",
      "Ta1 = 0.95\n",
      "Ta2 = 0.05\n",
      "T1 tabla = 1.753\n",
      "T2 tabla = -1.753\n"
     ]
    }
   ],
   "source": [
    "import scipy.stats as st\n",
    "import math\n",
    "\n",
    "# Asignando valores:\n",
    "n1 = 15\n",
    "n2 = 10\n",
    "x1 = 24.2\n",
    "x2 = 23.3\n",
    "u1 = 0\n",
    "u2 = 0\n",
    "s1 = 10\n",
    "s2 = 20\n",
    "a = 0.1\n",
    "Ta1 = 1 - (a/2)\n",
    "Ta2 = a/2\n",
    "\n",
    "# Calculamos grados de libertad\n",
    "V = round(((s1 / n1) + (s2 / n2))**2 / (((s1 / n1)**2 / (n1 - 1)) + ((s2/ n2)**2 / (n2 - 1))))\n",
    "\n",
    "# Reemplazamos en la formula\n",
    "Tc = round((x1 - x2 - (u1 - u2)) / math.sqrt(s1**2/n1 + s2**2/n2), 3)\n",
    "\n",
    "# Calculamos Z\n",
    "T1 = round(st.t.ppf(Ta1, df=V), 3)\n",
    "T2 = round(st.t.ppf(Ta2, df=V), 3)\n",
    "\n",
    "# Como tenemos = entonces la aceptacion está en el centro\n",
    "if Tc < T1 and Tc > T2:\n",
    "    respuesta = \"Se acepta H0\"\n",
    "else:\n",
    "    respuesta = \"Se rechaza H0\"\n",
    "\n",
    "print(respuesta)\n",
    "print(\"Grados de libertad =\", V)\n",
    "print(\"Tc =\", Tc)\n",
    "print(\"Ta1 =\", Ta1)\n",
    "print(\"Ta2 =\", Ta2)\n",
    "print(\"T1 tabla =\", T1)\n",
    "print(\"T2 tabla =\", T2)"
   ]
  },
  {
   "cell_type": "markdown",
   "metadata": {},
   "source": [
    "Con un nivel de significacion de 0.1 existe evidencia muestral para afirmar que no existe diferencia significativa entre los flujos de corriente promedio de los 2 diseños."
   ]
  },
  {
   "cell_type": "markdown",
   "metadata": {},
   "source": [
    "## Varianza poblacional desconocida, pero iguales\n",
    "\n",
    "El encargado de la secciõn de tarjetas de crédito desea saber si existe diferencia\n",
    "significativa en el promedio de saldos de tarjetas de crédito de dos sucursales. Se\n",
    "eligieron muestras aleatorias e independientes de cada sucursal, cuya información se\n",
    "presenta a continuación:\n",
    "\n",
    "![tabla](../Images/tablaProbleS3.png)\n",
    "\n",
    "Con un nivel de significación del 5% ¿**Existe diferencia significativa** entre ambos promedios? Asuma homogeneidad de varianzas.\n",
    "\n",
    "$H_0:\\mu_1=\\mu_2$\n",
    "\n",
    "$H_1:\\mu_1\\neq\\mu_2$\n",
    "\n",
    "*Se empleara:*\n",
    "\n",
    "$$\n",
    "{S_P}^2=\\frac{(n_1-1){S_1}^2+(n_2-1){S_2}^2}{n_1+n_2-2}\n",
    "$$\n",
    "$$\n",
    "T_C=\\frac{\\bar{X}_1-\\bar{X}_2-(\\mu_1-\\mu_2)_{hip}}{\\sqrt{Sp^2\\left(\\frac1{n_1}+\\frac1{n_2}\\right)}}\n",
    "$$\n",
    "\n",
    "Los parámetros relevantes son:\n",
    "- Tamaño de muestra ($n_1$) = 20\n",
    "- Media muestral ($\\bar{X}_1$) = 550\n",
    "- Desviacion estandar poblacional ($S^2_1$) = 400\n",
    "- Tamaño de muestra ($n_2$) = 20\n",
    "- Media muestral ($\\bar{X}_2$) = 570\n",
    "- Desviacion estandar poblacional ($S^2_2$) = 324\n",
    "- Nivel de significacion ($\\alpha$) = 0.05"
   ]
  },
  {
   "cell_type": "code",
   "execution_count": 7,
   "metadata": {},
   "outputs": [
    {
     "name": "stdout",
     "output_type": "stream",
     "text": [
      "Se rechaza H0\n",
      "Varianza Ponderada = 362\n",
      "T calculado = -3.324\n",
      "Ta1 = 0.025\n",
      "Ta2 = 0.975\n",
      "T1 tabla = -2.024\n",
      "T2 tabla = 2.024\n"
     ]
    }
   ],
   "source": [
    "import scipy.stats as st\n",
    "import math\n",
    "\n",
    "# Asignando valores:\n",
    "n1 = 20\n",
    "n2 = 20\n",
    "x1 = 550\n",
    "x2 = 570\n",
    "u1 = 0\n",
    "u2 = 0\n",
    "s1 = 400\n",
    "s2 = 324\n",
    "a = 0.05\n",
    "Ta1 = a/2\n",
    "Ta2 = 1 - (a/2)\n",
    "\n",
    "# Calculamos grados de libertdad\n",
    "gl = n1+n2-2\n",
    "\n",
    "# Calculamos varianza ponderada Sp\n",
    "Sp = round(((n1-1)*s1+(n2-1)*s2)/gl)\n",
    "\n",
    "# Reemplazamos en la formula\n",
    "Tc = round((x1 - x2 - (u1 - u2)) / math.sqrt(Sp*(1/n1 + 1/n2)), 3)\n",
    "\n",
    "# Calculamos T\n",
    "T1 = round(st.t.ppf(Ta1, df=gl), 3)\n",
    "T2 = round(st.t.ppf(Ta2, df=gl), 3)\n",
    "\n",
    "# Como tenemos = entonces la aceptacion está en el centro\n",
    "if Tc > T1 and Tc < T2:\n",
    "    respuesta = \"Se acepta H0\"\n",
    "else:\n",
    "    respuesta = \"Se rechaza H0\"\n",
    "\n",
    "print(respuesta)\n",
    "print(\"Varianza Ponderada =\", Sp)\n",
    "print(\"T calculado =\", Tc)\n",
    "print(\"Ta1 =\", Ta1)\n",
    "print(\"Ta2 =\", Ta2)\n",
    "print(\"T1 tabla =\", T1)\n",
    "print(\"T2 tabla =\", T2)"
   ]
  },
  {
   "cell_type": "markdown",
   "metadata": {},
   "source": [
    "Con un nivel de significacion de 0.05 existe evidencia muestral para afirmar que existe diferencia significativa entre los saldos promedios de tarjeta de las 2 sucursales."
   ]
  },
  {
   "cell_type": "markdown",
   "metadata": {},
   "source": [
    "# Taller N°2\n",
    "\n",
    "Para determinar el costo medio mensual de la enseñanza en las universidades A y B, se toma una muestra al azar de 121 alumnos de la universidad A arrojando un costo medio de S/. 650 y una desviación estándar de S/ 70. Una muestra al azar de 123 alumnos de la universidad B da un costo medio de S/. 675 y una desviación estándar de S/. 90. Con a = 0.01, verifique si el costo medio mensual de la enseñanza en las universidades A es mayor a la de B.\n",
    "\n",
    "$H_0:U_a<=U_b$\n",
    "\n",
    "$H_1:U_a>U_b$\n",
    "\n",
    "**Se empleara:**\n",
    "$$\n",
    "Z_C=\\frac{\\bar{X}_1-\\bar{X}_2-(\\mu_1-\\mu_2)_{hip}}{\\sqrt{\\frac{\\sigma_1^2}{n_1}+\\frac{\\sigma_2^2}{n_2}}}\n",
    "$$\n",
    "\n",
    "Los parámetros relevantes son:\n",
    "- Tamaño de muestra ($n_1$) = 121\n",
    "- Media muestral ($\\bar{X}_1$) = 650\n",
    "- Desviacion estandar poblacional ($\\sigma_1$) = 70\n",
    "- Tamaño de muestra ($n_2$) = 123\n",
    "- Media muestral ($\\bar{X}_2$) = 675\n",
    "- Desviacion estandar poblacional ($\\sigma_2$) = 90\n",
    "- Nivel de significacion ($\\alpha$) = 0.01"
   ]
  },
  {
   "cell_type": "code",
   "execution_count": 22,
   "metadata": {},
   "outputs": [
    {
     "name": "stdout",
     "output_type": "stream",
     "text": [
      "Se acepta H0\n",
      "Zc = -2.424\n",
      "Za= 0.99\n",
      "Z tabla = 2.326\n"
     ]
    }
   ],
   "source": [
    "import scipy.stats as st\n",
    "import math\n",
    "\n",
    "# Asignando valores:\n",
    "n1=121\n",
    "n2=123\n",
    "x1=650\n",
    "x2=675\n",
    "u1=0\n",
    "u2=0\n",
    "o1=70\n",
    "o2=90\n",
    "a = 0.01\n",
    "Za = 1-a\n",
    "\n",
    "# Reemplazamos en la formula\n",
    "Zc = round((x1-x2-(u1-u2))/(math.sqrt(o1**2/n1+o2**2/n2)),3)\n",
    "\n",
    "# Calculamos Z\n",
    "Z = round((st.norm.ppf(Za)),3)\n",
    "\n",
    "# Como tenemos <= entonces el rechazo esta a la derecha\n",
    "if Zc<Z:\n",
    "    respuesta=(\"Se acepta H0\")\n",
    "else:\n",
    "    respuesta=(\"Se rechaza H0\")\n",
    "\n",
    "print(respuesta)\n",
    "print(\"Zc =\",Zc)\n",
    "print(\"Za=\",Za)\n",
    "print(\"Z tabla =\",Z)"
   ]
  },
  {
   "cell_type": "markdown",
   "metadata": {},
   "source": [
    "Con un nivel de significacion de 0.01 existe evidencia muestral para afirmar que el costo medio mensual de la enseñanza en la universidad A es menor al costo medio de la universidad B."
   ]
  }
 ],
 "metadata": {
  "kernelspec": {
   "display_name": "Python 3",
   "language": "python",
   "name": "python3"
  },
  "language_info": {
   "codemirror_mode": {
    "name": "ipython",
    "version": 3
   },
   "file_extension": ".py",
   "mimetype": "text/x-python",
   "name": "python",
   "nbconvert_exporter": "python",
   "pygments_lexer": "ipython3",
   "version": "3.11.5"
  }
 },
 "nbformat": 4,
 "nbformat_minor": 2
}
