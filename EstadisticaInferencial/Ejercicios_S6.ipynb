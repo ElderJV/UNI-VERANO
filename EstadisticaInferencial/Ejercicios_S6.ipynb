{
 "cells": [
  {
   "cell_type": "markdown",
   "metadata": {},
   "source": [
    "## Prueba de wilcoxon\n",
    "Ejercicio 1\n",
    "\n",
    "Se realiza un experimento para determinar la eficacia de un tratamiento que busca mejorar la circulación coronaria en pacientes con anemia severa crónica.\n",
    "Participan 8 pacientes y se registra un índice especifico de presión sanguínea coronaria antes y después\n",
    "Tabla 1:\n",
    "Registro Presión Saguínea\n",
    "\n",
    "![capS6Ejer1](../Images/S6_Ej1.png)\n",
    "\n",
    "Determine con un nivel de significacion de 0.05, si existe eficacia en el trataminto de los pacientes con anemia severea cronica.\n",
    "\n",
    "Los parámetros relevantes son:\n",
    "- Nivel de significacion ($\\alpha$) = 0.05\n",
    "- Tamano de muestra $n$ = 8\n",
    "\n",
    "**Planteamos la hipotesis**\n",
    "\n",
    "a = Sin tratamiento\n",
    "\n",
    "b = con metodo de tratamiento\n",
    "\n",
    "* $H_0:Ua = Ub$\n",
    "* $H_1:Ua < Ub$ "
   ]
  },
  {
   "cell_type": "code",
   "execution_count": 78,
   "metadata": {},
   "outputs": [
    {
     "name": "stdout",
     "output_type": "stream",
     "text": [
      "Diferencias:\n",
      "[53, 13, -2, 17, 6, 26, 2, 24]\n",
      "Diferencias Odenadas\n",
      "[-2, 2, 6, 13, 17, 24, 26, 53]\n",
      "Diferencia Ordenada y Con Valor absoluto\n",
      "[2, 2, 6, 13, 17, 24, 26, 53]\n",
      "Orden De los Valores\n",
      "[1, 2, 3, 4, 5, 6, 7, 8]\n",
      "Rango\n",
      "[1.5, 1.5, 3, 4, 5, 6, 7, 8]\n",
      "\n",
      "Comparacion de Filas de Diferencias Y Rangos\n",
      "[-2, 2, 6, 13, 17, 24, 26, 53]\n",
      "[1.5, 1.5, 3, 4, 5, 6, 7, 8]\n",
      "\n",
      "T+ = 34.5\n",
      "T- = 1.5\n",
      "T = Min(T+,T-) = 1.5\n",
      "\n",
      "Reemplazamos en las Formulas\n"
     ]
    },
    {
     "data": {
      "text/latex": [
       "$$E(t)=\\frac{8(8+1)}4=\\frac{72}4=18.0$$"
      ],
      "text/plain": [
       "<IPython.core.display.Latex object>"
      ]
     },
     "metadata": {},
     "output_type": "display_data"
    },
    {
     "data": {
      "text/latex": [
       "$$\\sigma(t)=\\frac{8(8+1)(2*8+1)}{24}=\\frac{8(9)(17)}{24}=51.0$$"
      ],
      "text/plain": [
       "<IPython.core.display.Latex object>"
      ]
     },
     "metadata": {},
     "output_type": "display_data"
    },
    {
     "data": {
      "text/latex": [
       "$$Z=\\frac{1.5-18.0}{\\sqrt{51.0}}=\\frac{-16.5}{7.141}=-2.3105$$"
      ],
      "text/plain": [
       "<IPython.core.display.Latex object>"
      ]
     },
     "metadata": {},
     "output_type": "display_data"
    },
    {
     "name": "stdout",
     "output_type": "stream",
     "text": [
      "Z(a/2) = Z( 0.025 ) = -1.96\n",
      "Z(1-(a/2)) = Z( 0.975 ) = 1.96\n",
      "Conclusion: Se rechaza H0\n"
     ]
    }
   ],
   "source": [
    "import math\n",
    "import scipy.stats as st\n",
    "from IPython.display import display, Markdown, Latex\n",
    "\n",
    "# Datos\n",
    "n = 8\n",
    "a = 0.05\n",
    "antes = [109,57,53,57,68,72,51,65]\n",
    "despues = [56,44,55,40,62,46,49,41]\n",
    "diferencias = []\n",
    "\n",
    "# Calculamos la diferencia de los valores\n",
    "for i in range(len(antes)):\n",
    "    diferencias.append(antes[i]-despues[i])\n",
    "\n",
    "# Imprimimos las diferencias\n",
    "print(\"Diferencias:\")\n",
    "print(diferencias)\n",
    "\n",
    "# Ordenamos e imprimimos las diferencias\n",
    "listaOrdenada = sorted(diferencias)\n",
    "print(\"Diferencias Odenadas\")\n",
    "print(listaOrdenada)\n",
    "\n",
    "# Obtenemos el valor absoluto y le asignamos un valor de orden\n",
    "listaOrdAbs=[]\n",
    "orden=[]\n",
    "for posc,numero in enumerate(listaOrdenada):\n",
    "    listaOrdAbs.append(abs(numero))\n",
    "    orden.append(posc+1)\n",
    "\n",
    "# Imprimimos las listas\n",
    "print(\"Diferencia Ordenada y Con Valor absoluto\")\n",
    "print(listaOrdAbs)\n",
    "print(\"Orden De los Valores\")\n",
    "print(orden)\n",
    "\n",
    "# Obtenemos el rango\n",
    "rango = orden\n",
    "valorAnterior = 0\n",
    "for posc,numero in enumerate(listaOrdAbs):\n",
    "    if (valorAnterior==numero):\n",
    "        ValorRango = (((posc)+(posc+1))/2)\n",
    "        rango[posc-1]=ValorRango\n",
    "        rango[posc]=ValorRango\n",
    "    valorAnterior=numero\n",
    "print(\"Rango\")\n",
    "print(rango)\n",
    "\n",
    "# Calculamos la suma de los rangos para las diferencias Positivas y Negativas\n",
    "Tpositivo = 0\n",
    "TNegativo = 0\n",
    "Tminimo = 0\n",
    "for posc,numero in enumerate(listaOrdenada):\n",
    "    if numero<0:\n",
    "        TNegativo += rango[posc]\n",
    "    else:\n",
    "        Tpositivo += rango[posc]\n",
    "\n",
    "# Mostramos La comparacion entre las filas de Diferencias Y Rangos\n",
    "print(\"\\nComparacion de Filas de Diferencias Y Rangos\")\n",
    "print(listaOrdenada)\n",
    "print(rango)\n",
    "\n",
    "# Identificamos la suma de rangos minima\n",
    "if Tpositivo>TNegativo:\n",
    "    Tminimo = TNegativo\n",
    "else:\n",
    "    Tminimo = Tpositivo\n",
    "\n",
    "print(\"\\nT+ =\",Tpositivo)\n",
    "print(\"T- =\",TNegativo)\n",
    "print(\"T = Min(T+,T-) =\",Tminimo)\n",
    "\n",
    "# Reemplazamos en la formula de la E(T) E en funcion de T\n",
    "print(\"\\nReemplazamos en las Formulas\")\n",
    "E =  (n*(n+1)/4)\n",
    "display(Latex(f\"$$E(t)=\\\\frac{{{n}({n}+1)}}{4}=\\\\frac{{{n*(n+1)}}}{4}={E}$$\"))\n",
    "\n",
    "# Reemplazamos en la formula de la o(t) o en funcion de t\n",
    "O = (n*(n+1)*(2*n+1)/24)\n",
    "display(Latex(f\"$$\\sigma(t)=\\\\frac{{{n}({n}+1)(2*{n}+1)}}{{24}}=\\\\frac{{{n}({n+1})({2*n+1})}}{{24}}={O}$$\"))\n",
    "\n",
    "# Calculamos Z\n",
    "Z = round((Tminimo - E)/math.sqrt(O),4)\n",
    "display(Latex(f\"$$Z=\\\\frac{{{Tminimo}-{E}}}{{\\sqrt{{{O}}}}}=\\\\frac{{{Tminimo-E}}}{{{round(math.sqrt(O),3)}}}={Z}$$\"))\n",
    "\n",
    "# Calculamos Z Tabla\n",
    "Z1 = a/2\n",
    "Z2 = 1-(a/2)\n",
    "Zt1 = round((st.norm.ppf(Z1)),3)\n",
    "Zt2 = round((st.norm.ppf(Z2)),3)\n",
    "print(\"Z(a/2) = Z(\",Z1,\") =\",Zt1)\n",
    "print(\"Z(1-(a/2)) = Z(\",Z2,\") =\",Zt2)\n",
    "\n",
    "# Comparamos resultados para la Hipotesis, Revisa La Hipotesis!!\n",
    "if Z > Z1 and Z < Z2:\n",
    "    print(\"Conclusion: Se Acepta H0\")\n",
    "else:\n",
    "    print(\"Conclusion: Se rechaza H0\")\n"
   ]
  },
  {
   "cell_type": "markdown",
   "metadata": {},
   "source": [
    "## Prueba de Kruskal Wallis\n",
    "Ejercicio 2\n",
    "\n",
    "Se desea determinar si las cifras que excretan en orina de sodio y potasio 4 tipos de ratas difieren entre sí, para lo cual se hicieron las determinaciones que se expresan a continuación:\n",
    "\n",
    "![S6_Ej2](../Images/s6ej2.png)\n",
    "\n",
    "### Procedimiento\n",
    "\n",
    "1 . **Planteamiento de la hipotesis**\n",
    "\n",
    "* Ho: Las muestras de tipos de ratas provienen de poblaciones idénticas.\n",
    "* H1: Las muestras de tipos de ratas provienen de poblaciones diferentes.\n",
    "\n",
    "**Datos relevantes:**\n",
    "- Nivel de Significacion ($\\alpha$) = 0.05"
   ]
  },
  {
   "cell_type": "code",
   "execution_count": 32,
   "metadata": {},
   "outputs": [
    {
     "name": "stdout",
     "output_type": "stream",
     "text": [
      "\n",
      "Comparacion de Filas de Diferencias Y Rangos\n",
      "[1.12, 1.2, 1.23, 1.25, 1.27, 1.32, 1.32, 1.42, 1.62, 1.64, 1.7, 1.89, 1.97, 2.32, 2.54, 2.62, 2.72, 2.8, 2.81, 2.93]\n",
      "[1, 2, 3, 4, 5, 6.5, 6.5, 8, 9, 10, 11, 12, 13, 14, 15, 16, 17, 18, 19, 20]\n",
      "\n",
      "Grupo A\n",
      "[2.8, 2.72, 2.93, 2.62, 2.32]\n",
      "[18, 17, 20, 16, 14]\n",
      "Suma = 85\n",
      "Promedio = 17.0\n",
      "\n",
      "Grupo B\n",
      "[2.81, 2.54, 1.97, 1.62, 1.7]\n",
      "[19, 15, 13, 9, 11]\n",
      "Suma = 67\n",
      "Promedio = 13.4\n",
      "\n",
      "Grupo C\n",
      "[1.25, 1.42, 1.27, 1.2, 1.32]\n",
      "[4, 8, 5, 2, 6.5]\n",
      "Suma = 25.5\n",
      "Promedio = 5.1\n",
      "\n",
      "Grupo D\n",
      "[1.32, 1.64, 1.89, 1.12, 1.23]\n",
      "[6.5, 10, 12, 1, 3]\n",
      "Suma = 32.5\n",
      "Promedio = 6.5\n",
      "\n",
      "Estadistico de Prueba H\n"
     ]
    },
    {
     "data": {
      "text/latex": [
       "$$\\text{H}=\\frac{12}{20(20+1)}*[2684.1]-63=13.689$$"
      ],
      "text/plain": [
       "<IPython.core.display.Latex object>"
      ]
     },
     "metadata": {},
     "output_type": "display_data"
    },
    {
     "name": "stdout",
     "output_type": "stream",
     "text": [
      "Valor Xi cuadrado: 0.352\n",
      "Conclusion: Se rechaza la H0\n"
     ]
    }
   ],
   "source": [
    "import math\n",
    "import scipy.stats as st\n",
    "from IPython.display import display, Markdown, Latex\n",
    "\n",
    "# Datos\n",
    "n = 20\n",
    "a = 0.05\n",
    "k = 4 # Numero de grupos\n",
    "grupoA=[2.80,2.72,2.93,2.62,2.32]\n",
    "grupoB=[2.81,2.54,1.97,1.62,1.70]\n",
    "grupoC=[1.25,1.42,1.27,1.20,1.32]\n",
    "grupoD=[1.32,1.64,1.89,1.12,1.23]\n",
    "diferencias = grupoA+grupoB+grupoC+grupoD\n",
    "\n",
    "\n",
    "# Ordenamos e imprimimos las diferencias\n",
    "listaOrdenada = sorted(diferencias)\n",
    "\n",
    "# Obtenemos el valor absoluto y le asignamos un valor de orden\n",
    "listaOrdAbs=[]\n",
    "orden=[]\n",
    "for posc,numero in enumerate(listaOrdenada):\n",
    "    listaOrdAbs.append(abs(numero))\n",
    "    orden.append(posc+1)\n",
    "\n",
    "# Obtenemos el rango\n",
    "rango = orden\n",
    "valorAnterior = 0\n",
    "for posc,numero in enumerate(listaOrdAbs):\n",
    "    if (valorAnterior==numero):\n",
    "        ValorRango = (((posc)+(posc+1))/2)\n",
    "        rango[posc-1]=ValorRango\n",
    "        rango[posc]=ValorRango\n",
    "    valorAnterior=numero\n",
    "\n",
    "# Mostramos La comparacion entre las filas de Diferencias Y Rangos\n",
    "print(\"\\nComparacion de Filas de Diferencias Y Rangos\")\n",
    "print(listaOrdenada)\n",
    "print(rango)\n",
    "\n",
    "# Calcula la suma y el promedio para cada grupo\n",
    "R2ni=0\n",
    "for nombre, grupo in zip(['Grupo A', 'Grupo B', 'Grupo C', 'Grupo D'], [grupoA, grupoB, grupoC, grupoD]):\n",
    "    rangoGrupo = []\n",
    "    sumaGrupo = 0\n",
    "    promGrupo = 0\n",
    "    rangoAgregado = set()  # Usamos un conjunto para evitar repeticiones de valores de rango\n",
    "    \n",
    "    # Itera sobre los elementos del grupo\n",
    "    for numero in grupo:\n",
    "        for LisPosc, numRango in enumerate(listaOrdenada):\n",
    "            if numero == numRango:\n",
    "                if rango[LisPosc] not in rangoAgregado:  # Verifica si el valor del rango ya ha sido agregado\n",
    "                    rangoGrupo.append(rango[LisPosc])\n",
    "                    sumaGrupo += rango[LisPosc]\n",
    "                    rangoAgregado.add(rango[LisPosc])  # Agrega el valor del rango al conjunto de rangos agregados\n",
    "\n",
    "    # Calcula el promedio\n",
    "    if grupo:  # Asegura que el grupo no esté vacío para evitar dividir por cero\n",
    "        promGrupo = sumaGrupo / len(grupo)  # Corrige la división aquí\n",
    "    \n",
    "    # Calculamos R^2_i/n_i\n",
    "    R2ni += (sumaGrupo**2)/5\n",
    "    # Imprime los resultados\n",
    "    print(f\"\\n{nombre}\")\n",
    "    print(grupo)\n",
    "    print(rangoGrupo)\n",
    "    print(f\"Suma = {sumaGrupo}\\nPromedio = {promGrupo}\")\n",
    "\n",
    "# Se calcula el estadistico H\n",
    "H = (12/(n*(n+1)))*(R2ni)-(3*(n+1))\n",
    "#H, p_value = st.kruskal(grupoA,grupoB,grupoC,grupoD) -> Forma Corta :)\n",
    "\n",
    "print(\"\\nEstadistico de Prueba H\")\n",
    "display(Latex(f\"$$\\\\text{{H}}=\\\\frac{{12}}{{{n}({n}+1)}}*[{round(R2ni,3)}]-{3*(n+1)}={round(H,3)}$$\"))\n",
    "\n",
    "# Tabla Xi Cuadrado\n",
    "Xi = round(st.chi2.ppf(a,k-1),3)\n",
    "print(\"Valor Xi cuadrado:\",Xi)\n",
    "\n",
    "# Conclusion\n",
    "if H>Xi:\n",
    "    print(\"Conclusion: Se rechaza la H0\")\n",
    "else:\n",
    "    print(\"Conclusion: Se acepta la H0\")"
   ]
  },
  {
   "cell_type": "markdown",
   "metadata": {},
   "source": [
    "Conclusión: Como H > Xi cuadrado tabular, se rechaza Ia Ho, por tanto,las 4 muestras provienen de poblaciones diferentes."
   ]
  },
  {
   "cell_type": "markdown",
   "metadata": {},
   "source": [
    "## Prueba de Friedman\n",
    "Ejercicio 3\n",
    "\n",
    "Se está realizando un experimento para analizar el sabor de una nueva marca de gaseosa sabor cola antes de que se lance al mercado. Las marcas de gaseosas colas en comparación fueron dadas a 5 jueces especializados y se estableció una escala de valores de (1-5) donde 1 es el de peor sabor y 5 el de mejor sabor.\n",
    "\n",
    "Los resultados del experimento se muestran, a continuación:\n",
    "\n",
    "![S6ej3](../Images/s6ej3.png)\n",
    "\n",
    "Pruebe si no existe igual preferencia por las gaseosas. Use $\\alpha$=0.05.\n",
    "\n",
    "### Procedimiento\n",
    "\n",
    "1 . **Planteamiento de la hipotesis**\n",
    "\n",
    "* Ho: $\\mu_1=\\mu_2=\\mu_3=\\mu_4$ (Las medias son iguales)\n",
    "* H1: Al menos 2 medias son diferentes\n",
    "\n",
    "**Datos relevantes:**\n",
    "- Nivel de Significacion ($\\alpha$) = 0.05"
   ]
  },
  {
   "cell_type": "code",
   "execution_count": 57,
   "metadata": {},
   "outputs": [
    {
     "name": "stdout",
     "output_type": "stream",
     "text": [
      "Estadístico de prueba de Friedman: 11.93478260869564\n",
      "Valor Xi cuadrado: 7.815\n",
      "Hay diferencias significativas entre al menos dos de las medias \n"
     ]
    }
   ],
   "source": [
    "import math\n",
    "import scipy.stats as st\n",
    "from IPython.display import display, Markdown, Latex\n",
    "\n",
    "a = 0.05\n",
    "H = 5\n",
    "K = 4\n",
    "\n",
    "# Datos de tiempo de ejecución para cada algoritmo en cada conjunto de datos\n",
    "grupoA=[5,4,5,5,5]\n",
    "grupoB=[2,1,2,1,2]\n",
    "grupoC=[3,3,2,3,3]\n",
    "grupoD=[2,4,3,2,3]\n",
    "\n",
    "# Realizamos la prueba de Friedman\n",
    "F, p_valor = st.friedmanchisquare(grupoA,grupoB,grupoC,grupoD)\n",
    "\n",
    "# Imprimimos los resultados\n",
    "print(\"Estadístico de prueba de Friedman:\", F)\n",
    "\n",
    "# Tabla Xi Cuadrado\n",
    "Xi = round(st.chi2.ppf(1-a,K-1),3)\n",
    "print(\"Valor Xi cuadrado:\",Xi)\n",
    "\n",
    "# Evaluamos el valor p para determinar si hay diferencias significativas\n",
    "if F > Xi:\n",
    "    print(\"Hay diferencias significativas entre al menos dos de las medias \")\n",
    "else:\n",
    "    print(\"No hay diferencias significativas entre las dos medias.\")\n",
    "\n",
    "\n"
   ]
  }
 ],
 "metadata": {
  "kernelspec": {
   "display_name": "Python 3",
   "language": "python",
   "name": "python3"
  },
  "language_info": {
   "codemirror_mode": {
    "name": "ipython",
    "version": 3
   },
   "file_extension": ".py",
   "mimetype": "text/x-python",
   "name": "python",
   "nbconvert_exporter": "python",
   "pygments_lexer": "ipython3",
   "version": "3.11.5"
  }
 },
 "nbformat": 4,
 "nbformat_minor": 2
}
