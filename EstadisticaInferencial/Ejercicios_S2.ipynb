{
 "cells": [
  {
   "cell_type": "markdown",
   "metadata": {},
   "source": [
    "## Intervalo de confianza de la media con varianza conocida\n",
    "\n",
    "### Ejercicio 1\n",
    "\n",
    "La empresa AUTOZIN produce partes de componentes cilíndricos para la industria automotriz que tienen un promedio de diámetro de 5 milímetros con una distribución normal y una desviación estándar de 0.1 milímetros. Para confirmar esto se tomó una muestra de 25 partes seleccionadas al azar que muestra que el diámetro promedio es de 5.027 milímetros. Encuentre el intervalo de confianza del 95% para la media de la población de todas las partes de componentes cilíndricos que produce la empresa.\n",
    "\n",
    "**Se empleara:**\n",
    "$$\n",
    "IC{:}\\quad\\bar{X}-Z_{(1-\\frac\\alpha2)}\\cdot\\frac\\sigma{\\sqrt{n}}\\leq\\mu\\leq\\bar{X}+Z_{(1-\\frac\\alpha2)}\\cdot\\frac\\sigma{\\sqrt{n}}\n",
    "$$\n",
    "\n",
    "Los parámetros relevantes son:\n",
    "- Desviacion estandar ( $\\sigma$ ) = 0.1\n",
    "- Promedio ($\\bar{X}$) = 5.027\n",
    "- Tamaño de muestra ($n$) = 25\n",
    "- Confianza = 95 %\n",
    "\n",
    "**Si:**\n",
    "1 - $\\alpha$ = 0.95\n",
    "\n",
    "**Entonces:**\n",
    "- $\\alpha$ = 0.05"
   ]
  },
  {
   "cell_type": "code",
   "execution_count": 4,
   "metadata": {},
   "outputs": [
    {
     "name": "stdout",
     "output_type": "stream",
     "text": [
      "1.96\n",
      "IC: 4.9878  u  5.0662\n"
     ]
    }
   ],
   "source": [
    "import scipy.stats as st\n",
    "import math\n",
    "# Asignando valores:\n",
    "O = 0.1\n",
    "X = 5.027\n",
    "n = 25\n",
    "# a -> calculado previamente\n",
    "a = 0.05\n",
    "\n",
    "# Calculamos Z\n",
    "Z = round((st.norm.ppf(1-(a/2))),2)\n",
    "\n",
    "# Reemplazamos en la formula IC\n",
    "IC1 = X-(Z*O/math.sqrt(n)) \n",
    "IC2 = X+(Z*O/math.sqrt(n)) \n",
    "\n",
    "print(Z)\n",
    "print(\"IC:\",IC1,\" u \",IC2)"
   ]
  },
  {
   "cell_type": "markdown",
   "metadata": {},
   "source": [
    "Con un nivel de confianza del 95%, el diámetro promedio de los componentes cilíndricos está comprendido desde 4.9878 a 5.0662 mil."
   ]
  }
 ],
 "metadata": {
  "kernelspec": {
   "display_name": "Python 3",
   "language": "python",
   "name": "python3"
  },
  "language_info": {
   "codemirror_mode": {
    "name": "ipython",
    "version": 3
   },
   "file_extension": ".py",
   "mimetype": "text/x-python",
   "name": "python",
   "nbconvert_exporter": "python",
   "pygments_lexer": "ipython3",
   "version": "3.12.0"
  }
 },
 "nbformat": 4,
 "nbformat_minor": 2
}
