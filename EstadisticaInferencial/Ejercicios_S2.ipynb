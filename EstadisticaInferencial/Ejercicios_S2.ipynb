{
 "cells": [
  {
   "cell_type": "markdown",
   "metadata": {},
   "source": [
    "## Intervalo de confianza de la media con varianza conocida\n",
    "\n",
    "La empresa AUTOZIN produce partes de componentes cilíndricos para la industria automotriz que tienen un promedio de diámetro de 5 milímetros con una distribución normal y una desviación estándar de 0.1 milímetros. Para confirmar esto se tomó una muestra de 25 partes seleccionadas al azar que muestra que el diámetro promedio es de 5.027 milímetros. Encuentre el intervalo de confianza del 95% para la media de la población de todas las partes de componentes cilíndricos que produce la empresa.\n",
    "\n",
    "**Se empleara:**\n",
    "$$\n",
    "IC{:}\\quad\\bar{X}-Z_{(1-\\frac\\alpha2)}\\cdot\\frac\\sigma{\\sqrt{n}}\\leq\\mu\\leq\\bar{X}+Z_{(1-\\frac\\alpha2)}\\cdot\\frac\\sigma{\\sqrt{n}}\n",
    "$$\n",
    "\n",
    "Los parámetros relevantes son:\n",
    "- Varianza Poblacional ( $\\sigma$ ) = 0.1\n",
    "- Promedio ($\\bar{X}$) = 5.027\n",
    "- Tamaño de muestra ($n$) = 25\n",
    "- Confianza = 95 %\n",
    "\n",
    "**Si:**\n",
    "1 - $\\alpha$ = 0.95\n",
    "\n",
    "**Entonces:**\n",
    "- $\\alpha$ = 0.05"
   ]
  },
  {
   "cell_type": "code",
   "execution_count": 4,
   "metadata": {},
   "outputs": [
    {
     "name": "stdout",
     "output_type": "stream",
     "text": [
      "1.96\n",
      "IC: 4.9878  u  5.0662\n"
     ]
    }
   ],
   "source": [
    "import scipy.stats as st\n",
    "import math\n",
    "# Asignando valores:\n",
    "O = 0.1\n",
    "X = 5.027\n",
    "n = 25\n",
    "# a -> calculado previamente\n",
    "a = 0.05\n",
    "\n",
    "# Calculamos Z\n",
    "Z = round((st.norm.ppf(1-(a/2))),2)\n",
    "\n",
    "# Reemplazamos en la formula IC\n",
    "IC1 = X-(Z*O/math.sqrt(n)) \n",
    "IC2 = X+(Z*O/math.sqrt(n)) \n",
    "\n",
    "print(Z)\n",
    "print(\"IC:\",IC1,\" u \",IC2)"
   ]
  },
  {
   "cell_type": "markdown",
   "metadata": {},
   "source": [
    "Con un nivel de confianza del 95%, el diámetro promedio de los componentes cilíndricos está comprendido desde 4.9878 a 5.0662 mil.\n",
    "\n",
    "---"
   ]
  },
  {
   "cell_type": "markdown",
   "metadata": {},
   "source": [
    "## Intervalo de confianza de la media con varianza desconocida\n",
    "En una muestra aleatoria de 20 porciones de cereal, el contenido promedio de azúcar fue de 11.3 gramos con una desviación estándar de 2.45 gramos. Suponiendo que los contenidos de azúcar están distribuidos normalmente, determine el intervalo de confianza del 95% para el contenido promedio de azúcar en las porciones de dicho cereal.\n",
    "\n",
    "**Se usara:**\n",
    "$$\n",
    "\\mathsf{IC}{:}\\quad\\bar{X}-T_{(1-\\frac{\\alpha}{2},gl)}\\cdot\\frac{S}{\\sqrt{n}}\\leq\\mu\\leq\\bar{X}+T_{(1-\\frac{\\alpha}{2},gl)}\\cdot\\frac{S}{\\sqrt{n}}\n",
    "$$\n",
    "\n",
    "Los parámetros relevantes son:\n",
    "- Desviacion estandar muestral ( $S$ ) = 2.45\n",
    "- Promedio ($\\bar{X}$) = 11.3\n",
    "- Tamaño de muestra ($n$) = 20\n",
    "- Confianza = 95 % \n",
    "\n",
    "**Si:**\n",
    "1 - $\\alpha$ = 0.95\n",
    "\n",
    "**Entonces:**\n",
    "- $\\alpha$ = 0.05"
   ]
  },
  {
   "cell_type": "code",
   "execution_count": 1,
   "metadata": {},
   "outputs": [
    {
     "name": "stdout",
     "output_type": "stream",
     "text": [
      "T: 2.093\n",
      "Intervalo de confianza: 10.153  a  12.447\n"
     ]
    }
   ],
   "source": [
    "import scipy.stats as st\n",
    "import math\n",
    "\n",
    "# Asignando valores:\n",
    "S = 2.45\n",
    "X = 11.3\n",
    "n = 20\n",
    "# a -> calculado previamente\n",
    "a = 0.05\n",
    "gl = n - 1\n",
    "\n",
    "# Calculamos T\n",
    "T = round(st.t.ppf(1 - a / 2, df=gl),3)\n",
    "\n",
    "# Reemplazamos en la fórmula IC\n",
    "IC1 = round(X - T * (S / math.sqrt(n)),3)\n",
    "IC2 = round(X + T * (S / math.sqrt(n)),3)\n",
    "\n",
    "print(\"T:\", T)\n",
    "print(\"Intervalo de confianza:\", IC1, \" a \", IC2)"
   ]
  },
  {
   "cell_type": "markdown",
   "metadata": {},
   "source": [
    "Con una confianza del 95%, el contenido promedio de azúcar será de 10.153 a 12.447 gramos.\n",
    "\n",
    "---"
   ]
  },
  {
   "cell_type": "markdown",
   "metadata": {},
   "source": [
    "# Intervalos de confianza para la diferencia de medias muestrales con varianza conocida y desconocida.\n",
    "\n",
    "**Conocida:**\n",
    "\n",
    "En un estudio para determinar el gasto medio mensual de las ciudades A y B con desviaciones estandar de 15 y 10 soles respectivamente. Se toma una muestra al azar de 200 hogares de A arrojando un gasto medio de S/250. Una muestra al azar de 180 hogares de la ciudad B de un gasto medio de 235.\n",
    "\n",
    "a) Determine en un intervalo de confianza del 99% para la diferencia de \n",
    "gasto medio en las ciudades A y B.\n",
    "\n",
    "b) ¿Es diferente el gasto medio mensual en arbitrios en las ciudades A y B?\n",
    "\n",
    "Los parametros relevantes son:\n",
    "- Varianza Poblacional (Desviacion) ($\\sigma_1^2$) = 15\n",
    "- Muestra 1 ($n_1$) = 200 \n",
    "- Promedio 1 ($\\bar{X}_1$) = 250\n",
    "- Varianza Poblacional (Desviacion) ($\\sigma_2^2$) = 20\n",
    "- Muestra 2 ($n_2$) = 180\n",
    "- Promedio 2 ($\\bar{X}_2$) = 235\n",
    "- Confianza = 99%\n",
    "\n",
    "**Formula a utilizar:**\n",
    "\n",
    "$$\n",
    "IC=(X_1-X_2)-Z_{(1-\\frac{\\alpha}{2})}\\sqrt[]{\\frac{\\sigma_1{}^2}{n_1}+\\frac{\\sigma_2{}^2}{n_2}}\\leq\\boldsymbol{\\mu_1}-\\boldsymbol{\\mu_2}\\leq(X_1-X_2)+Z_{(1-\\frac{\\alpha}{2})}\\sqrt[]{\\frac{\\sigma_1{}^2}{n_1}+\\frac{\\sigma_2{}^2}{n_2}}\n",
    "$$\n",
    "\n",
    "**Si:**\n",
    "1 - $\\alpha$ = 0.99\n",
    "\n",
    "**Entonces:**\n",
    "- $\\alpha$ = 0.01"
   ]
  },
  {
   "cell_type": "code",
   "execution_count": 17,
   "metadata": {},
   "outputs": [
    {
     "name": "stdout",
     "output_type": "stream",
     "text": [
      "Z: 2.576\n",
      "Intervalo de confianza: 10.287 <= μ <= 19.713\n"
     ]
    }
   ],
   "source": [
    "import scipy.stats as st\n",
    "import math\n",
    "\n",
    "# Asignando valores:\n",
    "o1 = 15\n",
    "o2 = 20\n",
    "n1 = 200\n",
    "n2 = 180\n",
    "x1 = 250\n",
    "x2 = 235\n",
    "# a -> calculado previamente\n",
    "a = 0.01\n",
    "\n",
    "# Calculamos Z\n",
    "Z = round(st.norm.ppf(1 - a / 2), 3)\n",
    "\n",
    "# Reemplazamos en la fórmula IC\n",
    "IC1 = round((x1 - x2) - Z * (math.sqrt(o1**2 / n1 + o2**2 / n2)), 3)\n",
    "IC2 = round((x1 - x2) + Z * (math.sqrt(o1**2 / n1 + o2**2 / n2)), 3)\n",
    "\n",
    "print(\"Z:\", Z)\n",
    "print(\"Intervalo de confianza:\", IC1, \"<= \\u03BC <=\", IC2)"
   ]
  },
  {
   "cell_type": "markdown",
   "metadata": {},
   "source": [
    "Con un nivel de confianza del 99% podemos decir que la diferencia de medias de los gastos en arbitrios de las ciudades A y B se encuentran en el intervalo (10.287 y 19.713)\n",
    "\n",
    "---"
   ]
  },
  {
   "cell_type": "markdown",
   "metadata": {},
   "source": [
    "Desconocida:\n",
    "\n",
    "En un proceso quimico, se comparan dos catalizadores para verificar su efecto en el resultado de la reaccion del proceso. Se preparo una muestra de 12 procesos utilizando el catalizador 1 y una de 10 con el catalizador 2, en el primer caso se obtuvo un rendimiento promedio de 85 con una desivacion estandar muestral de 4, mientras que en el promedio para la segunda muestra fue 81 y la desviacion estandar muestral de 5. Encuentre un intervalo de confianza del 90% para la diferencia entre las medias poblacionales, suponiendo que las **poblaciones** están dsitribuidas aproximadamente en **forma normal**, con **varianzas iguales**.\n",
    "\n",
    "Los parametros relevantes son:\n",
    "- Muestra 1 ($n_1$) = 12\n",
    "- Promedio 1 ($\\bar{X}_1$) = 85\n",
    "- Varianza Muestral (${S_{1}}$): 4 \n",
    "- Muestra 2 ($n_2$) = 10\n",
    "- Promedio 2 ($\\bar{X}_2$) = 81\n",
    "- Varianza Muestral (${S_{2}}$): 5\n",
    "- Confianza = 90%\n",
    "\n",
    "**Formulas a usar:**\n",
    "\n",
    "Se emplea la distribucion t-Student con $gl=n_1+n_2-2$\n",
    "\n",
    "$$\n",
    "{S_P}^2=\\frac{(n_1-1){S_1}^2+(n_2-1){S_2}^2}{n_1+n_2-2}\n",
    "$$\n",
    "\n",
    "$$\n",
    "(X_{1}-X_{2})-T_{(1-\\frac{\\alpha}{2},gl)}\\sqrt{S_{P}^{2}(\\frac{1}{n_{1}}+\\frac{1}{n_{2}})}\\le\\mu_{1}-\\mu_{2}\\le(X_{1}-X_{2})+T_{(1-\\frac{\\alpha}{2},gl)}\\sqrt{S_{P}^{2}(\\frac{1}{n_{1}}+\\frac{1}{n_{2}})}\n",
    "$$\n",
    "\n",
    "**Si:**\n",
    "1 - $\\alpha$ = 0.90\n",
    "\n",
    "**Entonces:**\n",
    "- $\\alpha$ = 0.1"
   ]
  },
  {
   "cell_type": "code",
   "execution_count": 22,
   "metadata": {},
   "outputs": [
    {
     "name": "stdout",
     "output_type": "stream",
     "text": [
      "T: 1.7247\n",
      "SP 20.05\n",
      "Intervalo de confianza: 0.693 <= μ <= 7.307\n"
     ]
    }
   ],
   "source": [
    "import scipy.stats as st\n",
    "import math\n",
    "\n",
    "# Asignando valores:\n",
    "s1 = 4\n",
    "s2 = 5\n",
    "n1 = 12\n",
    "n2 = 10\n",
    "x1 = 85\n",
    "x2 = 81\n",
    "# a -> calculado previamente\n",
    "a = 0.1\n",
    "gl=n1+n2-2\n",
    "\n",
    "# Calculamos T\n",
    "T = round(st.t.ppf(1-(a/2),df=gl),4)\n",
    "\n",
    "# Calculamos sp^2\n",
    "Sp = ((n1 - 1) * s1**2 + (n2 - 1) * s2**2) / gl\n",
    "\n",
    "# Aplicamos la Formula IC\n",
    "IC1 = round((x1-x2)-T*(math.sqrt(Sp*(1/n1+1/n2))), 3)\n",
    "IC2 = round((x1-x2)+T*(math.sqrt(Sp*(1/n1+1/n2))), 3)\n",
    "\n",
    "print(\"T:\", T)\n",
    "print(\"SP:\",Sp)\n",
    "print(\"Intervalo de confianza:\", IC1, \"<= \\u03BC <=\", IC2)"
   ]
  },
  {
   "cell_type": "markdown",
   "metadata": {},
   "source": [
    "Con un nivel de confianza del 90% podemos concluir que la diferencia de medias del rendimiento de los catalizadores se encuentran en el intervalo (0.69 y 7.31)\n",
    "\n",
    "---"
   ]
  },
  {
   "cell_type": "markdown",
   "metadata": {},
   "source": [
    "# Intervalos de Confianza para la proporcion\n",
    "\n",
    "Los compradores de ultima hora se quejan de que las tiendas por departamento de LIMA cierran muy temprano. En una muestra aleatoria de 600 compradores compulsivos de un centro comercial se encontro que 360 estan a favor de un horario más amplio para las compras.\n",
    "Calcule e interprete en un intervalo del 95% de confianza para la proporcion verdadera de compradores que estan a favor de un horario más amplio para las compras.\n",
    "\n",
    "Parametros resaltantes:\n",
    "- Muestra ($n$) = 600\n",
    "- Numero de exitos en la muestra ($X$) = 360\n",
    "- Confianza = 95%\n",
    "\n",
    "**Formulas a utilizar:**\n",
    "$$\n",
    "IC=p-Z_{\\left(1-\\frac\\alpha2\\right)^\\bullet}\\sqrt{\\frac{pq}n}<{\\pi}<p+Z_{\\left(1-\\frac\\alpha2\\right)^\\bullet}\\sqrt{\\frac{pq}n}\n",
    "$$\n",
    "\n",
    "A favor:\n",
    "$$\n",
    "p=\\frac{X}{n}\n",
    "$$\n",
    "En contra:\n",
    "$$\n",
    "q = 1 - p \n",
    "$$"
   ]
  },
  {
   "cell_type": "code",
   "execution_count": 24,
   "metadata": {},
   "outputs": [
    {
     "name": "stdout",
     "output_type": "stream",
     "text": [
      "Z: 1.96\n",
      "Intervalo de confianza: 0.561 <= pi <= 0.639\n"
     ]
    }
   ],
   "source": [
    "import scipy.stats as st\n",
    "import math\n",
    "\n",
    "# Asignando valores:\n",
    "n=600\n",
    "X=360\n",
    "CF=0.95\n",
    "p=X/n\n",
    "q=1-p\n",
    "a = 1 - CF\n",
    "\n",
    "# Calculamos Z\n",
    "Z = round(st.norm.ppf(1-(a/2)),4)\n",
    "\n",
    "# Aplicamos la formula IC\n",
    "IC1 = round(p-Z*(math.sqrt(p*q/n)),3)\n",
    "IC2 = round(p+Z*(math.sqrt(p*q/n)),3)\n",
    "\n",
    "print(\"Z:\", Z)\n",
    "print(\"Intervalo de confianza:\", IC1, \"<= pi <=\", IC2)"
   ]
  },
  {
   "cell_type": "markdown",
   "metadata": {},
   "source": [
    "Con un nivel de confianza del 95% podemos concluir ue la verdadera prorcion de personas a favor de un horario mas amplio para compras se encuentra en el intervalo de (0.561,0.639)\n",
    "\n",
    "---"
   ]
  },
  {
   "cell_type": "markdown",
   "metadata": {},
   "source": [
    "# Intervalos de confianza para la diferencia de proporciones\n",
    "\n",
    "En un proyecto de Ing. Industrial se ha lanzado una bebida energizante. En una zona muestra de 500 alumnos del Campus de Lima Sur se encontró que a 300 les agrada la nueva la nueva bebida y en una muestra de 400 de alumnos del Campus de Lima Norte se encontró que a 230 les agrada la nueva bebida. Calcule e interprete un intervalo del 95% de confianza para la diferencia de proporciones verdadera de estudiantes que les agrade la nueva bebida en ambos Campus.\n",
    "\n",
    "Parametros resaltantes:\n",
    "- Muestra 1 ($n_1$) = 500\n",
    "- Numero de exitos 1 ($X_1$) = 300 \n",
    "- Muestra 2 ($n_2$) = 400\n",
    "- Numero de extios 2 ($X_2$) = 230\n",
    "- Confianza = 95%\n",
    "\n",
    "**Formulas a utilizar:**\n",
    "$$\n",
    "IC= {p_1-p_2-Z_{(1-\\frac{\\alpha}{2})}\\sqrt{\\frac{p_1q_1}{n_1}+\\frac{p_2q_2}{n_2}}<\\pi_1-\\pi_2<p_1-p_2-Z_{(1-\\frac{\\alpha}{2})}\\sqrt{\\frac{p_1q_1}{n_1}+\\frac{p_2q_2}{n_2}}}\n",
    "$$\n",
    "\n",
    "A favor:\n",
    "$$\n",
    "p=\\frac{X}{n}\n",
    "$$\n",
    "En contra:\n",
    "$$\n",
    "q = 1 - p \n",
    "$$"
   ]
  },
  {
   "cell_type": "code",
   "execution_count": 27,
   "metadata": {},
   "outputs": [
    {
     "name": "stdout",
     "output_type": "stream",
     "text": [
      "Z: 1.96\n",
      "Intervalo de confianza: -0.04 <= pi <= 0.09\n"
     ]
    }
   ],
   "source": [
    "import scipy.stats as st\n",
    "import math\n",
    "\n",
    "# Asignando valores:\n",
    "n1=500\n",
    "n2=400\n",
    "x1=300\n",
    "x2=230\n",
    "CF=0.95\n",
    "\n",
    "p1=x1/n1\n",
    "p2=x2/n2\n",
    "q1=1-p1\n",
    "q2=1-p2\n",
    "a = 1 - CF\n",
    "\n",
    "# Calculamos Z\n",
    "Z = round(st.norm.ppf(1-(a/2)),4)\n",
    "\n",
    "# Aplicamos la formula IC\n",
    "IC1 = round((p1-p2)-Z*(math.sqrt(p1*q1/n1+p2*q2/n2)),3)\n",
    "IC2 = round((p1-p2)+Z*(math.sqrt(p1*q1/n1+p2*q2/n2)),3)\n",
    "\n",
    "print(\"Z:\", Z)\n",
    "print(\"Intervalo de confianza:\", IC1, \"<= pi <=\", IC2)"
   ]
  },
  {
   "cell_type": "markdown",
   "metadata": {},
   "source": [
    "Con un 95% de confianza la verdadera diferencia de proporciones está entre -0.04 y 0,09.\n",
    "\n",
    "---"
   ]
  },
  {
   "cell_type": "markdown",
   "metadata": {},
   "source": [
    "# Intervalos de confianza para la varianza\n",
    "\n",
    "Los siguientes datos representan las edades que tenían al momento de morir por enfermedad de una muestra de 20 personas de un pueblo:\n",
    "\n",
    "![datosProblema](../Images/problemaIntervalosCOnfianzaVarianza.png)\n",
    "\n",
    "Hallar un intervalo de confianza del 95 % para la varianza poblacional de la edad de muerte.\n",
    "\n",
    "\n",
    "Parametros resaltantes:\n",
    "- Muestra 1 ($n$) = 20\n",
    "- Confianza = 95%\n",
    "\n",
    "**Formula a utilizar:**\n",
    "Intervalo de confianza para la varianza:\n",
    "$$\n",
    "\\frac{(n-1)S^2}{X^2_{(1-\\frac\\alpha2,n-1)}}<\\sigma^2<\\frac{(n-1)S^2}{X^2_{(\\frac\\alpha2,n-1)}}\n",
    "$$"
   ]
  },
  {
   "cell_type": "code",
   "execution_count": 36,
   "metadata": {},
   "outputs": [
    {
     "name": "stdout",
     "output_type": "stream",
     "text": [
      "X1: 32.8523\n",
      "X2: 8.9065\n",
      "S: 122.1157894736842\n",
      "Intervalo de confianza: 70.625 <= o^2 <= 260.506\n"
     ]
    }
   ],
   "source": [
    "import scipy.stats as st\n",
    "import numpy as np\n",
    "import math\n",
    "\n",
    "# Asignando valores:\n",
    "n=20\n",
    "CF=0.95\n",
    "datos=[80,90,85,82,75,58,70,84,87,81,87,61,73,84,85,70,78,95,77,52]\n",
    "S= np.var(datos,ddof=1)\n",
    "a= 1 - CF\n",
    "\n",
    "# Calculamos X usando la tabla Chi-Cuadrado\n",
    "X1 = round(st.chi2.ppf(1-(a/2),n-1),4)\n",
    "X2 = round(st.chi2.ppf(a/2,n-1),4)\n",
    "\n",
    "# Aplicamos la formula IC\n",
    "IC1 = round(((n-1)*S/X1),3)\n",
    "IC2 = round(((n-1)*S/X2),3)\n",
    "\n",
    "print(\"X1:\", X1)\n",
    "print(\"X2:\", X2)\n",
    "print(\"S:\",S)\n",
    "print(\"Intervalo de confianza:\", IC1, \"<= o^2 <=\", IC2)"
   ]
  },
  {
   "cell_type": "markdown",
   "metadata": {},
   "source": [
    "Con un nivel de confianza del 95% podemos afirmar que la varianza de las edades de las personas que mueren por enfermedad en el pueblo se encuentra entre 70.62 y 260.51\n",
    "\n",
    "---"
   ]
  }
 ],
 "metadata": {
  "kernelspec": {
   "display_name": "Python 3",
   "language": "python",
   "name": "python3"
  },
  "language_info": {
   "codemirror_mode": {
    "name": "ipython",
    "version": 3
   },
   "file_extension": ".py",
   "mimetype": "text/x-python",
   "name": "python",
   "nbconvert_exporter": "python",
   "pygments_lexer": "ipython3",
   "version": "3.12.0"
  }
 },
 "nbformat": 4,
 "nbformat_minor": 2
}
