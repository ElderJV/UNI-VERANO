{
 "cells": [
  {
   "cell_type": "markdown",
   "metadata": {},
   "source": [
    "## Muestreo Aleatorio Simple\n",
    "\n",
    "Simplemente se escoje un dato al azar, se puede uzar la formula +ALEATORIO.entre() en excel"
   ]
  },
  {
   "cell_type": "code",
   "execution_count": 13,
   "metadata": {},
   "outputs": [
    {
     "name": "stdout",
     "output_type": "stream",
     "text": [
      "Numero aleatorio: 2\n",
      "Valor del numero aleatorio: 16\n",
      "Elemento aleatorio directo: 4\n"
     ]
    }
   ],
   "source": [
    "# Ejemplo de selecion al azar con un arreglo\n",
    "# Se utilizo el modulo random\n",
    "import random\n",
    "\n",
    "# Se crea la lista de numeros\n",
    "datos = [15,16,4,7,4]\n",
    "\n",
    "# Se declaran los rangos y se genera el numero al azar\n",
    "valorMinimo=1\n",
    "valorMaximo=5\n",
    "numeroRandom =  random.randint(valorMinimo,valorMaximo)\n",
    "\n",
    "# Se ubica al dato con el valor generado\n",
    "datoValor = datos[numeroRandom-1]\n",
    "print(\"Numero aleatorio:\",numeroRandom)\n",
    "print(\"Valor del numero aleatorio:\",datoValor)\n",
    "\n",
    "# Tambien se puede elegir directamente de la lista, si no\n",
    "# se cuenta con un rango.\n",
    "\n",
    "elementoAzar = random.choice(datos)\n",
    "print(\"Elemento aleatorio directo:\",elementoAzar)\n"
   ]
  },
  {
   "cell_type": "markdown",
   "metadata": {},
   "source": [
    "# Calculo de tamaño de una muestra\n",
    "\n",
    "### Caso 1 (Poblacion Desconocida-Media Poblacional)\n",
    "\n",
    "Una empresa eléctrica fabrica focos que tienen una duración\n",
    "aproximadamente normal con una desviación estándar de 40\n",
    "horas. ¿De qué tamaño se necesita una muestra si se desea tener\n",
    "96% de confianza con error de 10 horas?"
   ]
  },
  {
   "cell_type": "code",
   "execution_count": 10,
   "metadata": {},
   "outputs": [
    {
     "name": "stdout",
     "output_type": "stream",
     "text": [
      "0.98\n"
     ]
    }
   ],
   "source": [
    "#Calculo de Probabilidad\n",
    "#Nivel de confianza -> NC\n",
    "def CalcularProbabilidad(NC):\n",
    "    resultado = (1-((1-(NC/100))/2))\n",
    "    return resultado\n",
    "\n",
    "Probabilidad= CalcularProbabilidad(96)\n",
    "print(Probabilidad)"
   ]
  },
  {
   "cell_type": "markdown",
   "metadata": {},
   "source": [
    "Ahora con la probabilidad se encuentra su calificacion en $Z$ con la ayuda de la tabla\n",
    "\n",
    "[Tabla_PDF](../Documents/tablaZ.pdf)\n",
    "\n",
    "Se ubica el valor calculado exacto o aproximado luego se suman los valores de su columna y fila\n",
    "\n",
    "En este caso se llego a $Z = 2.05$\n",
    "\n",
    "Ahora con los datos del problema y el valor de Z encontrado se procede a aplicar la **formula**\n",
    "\n",
    "$$\n",
    "n=\\frac{\\mathbb{Z}^2*\\sigma^2}{\\mathbb{E}^2}\n",
    "$$"
   ]
  },
  {
   "cell_type": "code",
   "execution_count": 7,
   "metadata": {},
   "outputs": [
    {
     "name": "stdout",
     "output_type": "stream",
     "text": [
      "61.463341131106006\n"
     ]
    }
   ],
   "source": [
    "# DATOS:\n",
    "# o -> Desviacion Estandar  |   Error -> E\n",
    "import math\n",
    "import scipy.stats as st\n",
    "NC=0.96\n",
    "Z: float(st.norm.ppf(1-(1-NC)/2))\n",
    "o=40\n",
    "E=10\n",
    "\n",
    "n = ((Z**2)*(o**2))/E**2\n",
    "\n",
    "print(n)"
   ]
  },
  {
   "cell_type": "markdown",
   "metadata": {},
   "source": [
    "Se necesita una muestra de 67 focos para estimar la media de la población y tener un error máximo de 10 horas."
   ]
  },
  {
   "cell_type": "markdown",
   "metadata": {},
   "source": [
    "### Caso 2 (Poblacion Desconocida-Proporcion Poblacional)\n",
    "\n",
    "¿Cuántos estudiantes debe tener una muestra, con el tal de estimar ta proporción estudiantes que tienen correo electrónico?.\n",
    "En un estudio previo. Se halló que de 150 estudiantes, 120 tenían correo electrónico. Se desea tener un nivel de confianza del 95% y un error del 3% en las estimaciones."
   ]
  },
  {
   "cell_type": "markdown",
   "metadata": {},
   "source": [
    "**Se aplica la siguiente formula:**\n",
    "$$\n",
    "n=\\frac{\\mathbb{Z}_\\alpha^2*p*q}{\\epsilon^2}\n",
    "$$"
   ]
  },
  {
   "cell_type": "code",
   "execution_count": 6,
   "metadata": {},
   "outputs": [
    {
     "name": "stdout",
     "output_type": "stream",
     "text": [
      "682.9260125678444\n"
     ]
    }
   ],
   "source": [
    "import scipy.stats as st\n",
    "# DATOS:\n",
    "NC: float = 0.95\n",
    "# Proporcion de la poblacion \n",
    "P = (120/150)\n",
    "Q = 1-P\n",
    "# Margen de error \n",
    "E = 3/100\n",
    "Z: float = float(st.norm.ppf(1-(1-NC)/2))\n",
    "\n",
    "n = ((Z**2)*P*Q)/E**2\n",
    "\n",
    "print(n)"
   ]
  }
 ],
 "metadata": {
  "kernelspec": {
   "display_name": "Python 3",
   "language": "python",
   "name": "python3"
  },
  "language_info": {
   "codemirror_mode": {
    "name": "ipython",
    "version": 3
   },
   "file_extension": ".py",
   "mimetype": "text/x-python",
   "name": "python",
   "nbconvert_exporter": "python",
   "pygments_lexer": "ipython3",
   "version": "3.12.0"
  }
 },
 "nbformat": 4,
 "nbformat_minor": 2
}
