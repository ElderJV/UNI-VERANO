{
 "cells": [
  {
   "cell_type": "markdown",
   "metadata": {},
   "source": [
    "## Muestreo Aleatorio Simple\n",
    "\n",
    "Simplemente se escoje un dato al azar, se puede uzar la formula +ALEATORIO.entre() en excel"
   ]
  },
  {
   "cell_type": "code",
   "execution_count": 13,
   "metadata": {},
   "outputs": [
    {
     "name": "stdout",
     "output_type": "stream",
     "text": [
      "Numero aleatorio: 2\n",
      "Valor del numero aleatorio: 16\n",
      "Elemento aleatorio directo: 4\n"
     ]
    }
   ],
   "source": [
    "# Ejemplo de selecion al azar con un arreglo\n",
    "# Se utilizo el modulo random\n",
    "import random\n",
    "\n",
    "# Se crea la lista de numeros\n",
    "datos = [15,16,4,7,4]\n",
    "\n",
    "# Se declaran los rangos y se genera el numero al azar\n",
    "valorMinimo=1\n",
    "valorMaximo=5\n",
    "numeroRandom =  random.randint(valorMinimo,valorMaximo)\n",
    "\n",
    "# Se ubica al dato con el valor generado\n",
    "datoValor = datos[numeroRandom-1]\n",
    "print(\"Numero aleatorio:\",numeroRandom)\n",
    "print(\"Valor del numero aleatorio:\",datoValor)\n",
    "\n",
    "# Tambien se puede elegir directamente de la lista, si no\n",
    "# se cuenta con un rango.\n",
    "\n",
    "elementoAzar = random.choice(datos)\n",
    "print(\"Elemento aleatorio directo:\",elementoAzar)\n"
   ]
  },
  {
   "cell_type": "markdown",
   "metadata": {},
   "source": [
    "# Calculo de tamaño de una muestra\n",
    "\n",
    "### Caso 1\n",
    "\n",
    "Una empresa eléctrica fabrica focos que tienen una duración\n",
    "aproximadamente normal con una desviación estándar de 40\n",
    "horas. ¿De qué tamaño se necesita una muestra si se desea tener\n",
    "96% de confianza con error de 10 horas?"
   ]
  },
  {
   "cell_type": "code",
   "execution_count": null,
   "metadata": {},
   "outputs": [],
   "source": []
  }
 ],
 "metadata": {
  "kernelspec": {
   "display_name": "Python 3",
   "language": "python",
   "name": "python3"
  },
  "language_info": {
   "codemirror_mode": {
    "name": "ipython",
    "version": 3
   },
   "file_extension": ".py",
   "mimetype": "text/x-python",
   "name": "python",
   "nbconvert_exporter": "python",
   "pygments_lexer": "ipython3",
   "version": "3.12.0"
  }
 },
 "nbformat": 4,
 "nbformat_minor": 2
}
