{
 "cells": [
  {
   "cell_type": "markdown",
   "metadata": {},
   "source": [
    "## Muestreo Aleatorio Simple\n",
    "\n",
    "Simplemente se escoje un dato al azar, se puede uzar la formula +ALEATORIO.entre() en excel"
   ]
  },
  {
   "cell_type": "code",
   "execution_count": 13,
   "metadata": {},
   "outputs": [
    {
     "name": "stdout",
     "output_type": "stream",
     "text": [
      "Numero aleatorio: 2\n",
      "Valor del numero aleatorio: 16\n",
      "Elemento aleatorio directo: 4\n"
     ]
    }
   ],
   "source": [
    "# Ejemplo de selecion al azar con un arreglo\n",
    "# Se utilizo el modulo random\n",
    "import random\n",
    "\n",
    "# Se crea la lista de numeros\n",
    "datos = [15,16,4,7,4]\n",
    "\n",
    "# Se declaran los rangos y se genera el numero al azar\n",
    "valorMinimo=1\n",
    "valorMaximo=5\n",
    "numeroRandom =  random.randint(valorMinimo,valorMaximo)\n",
    "\n",
    "# Se ubica al dato con el valor generado\n",
    "datoValor = datos[numeroRandom-1]\n",
    "print(\"Numero aleatorio:\",numeroRandom)\n",
    "print(\"Valor del numero aleatorio:\",datoValor)\n",
    "\n",
    "# Tambien se puede elegir directamente de la lista, si no\n",
    "# se cuenta con un rango.\n",
    "\n",
    "elementoAzar = random.choice(datos)\n",
    "print(\"Elemento aleatorio directo:\",elementoAzar)\n"
   ]
  },
  {
   "cell_type": "markdown",
   "metadata": {},
   "source": [
    "# Calculo de tamaño de una muestra\n",
    "\n",
    "### Caso 1 (Poblacion Desconocida-Media Poblacional)\n",
    "\n",
    "Una empresa eléctrica fabrica focos que tienen una duración\n",
    "aproximadamente normal con una desviación estándar de 40\n",
    "horas. ¿De qué tamaño se necesita una muestra si se desea tener\n",
    "96% de confianza con error de 10 horas?"
   ]
  },
  {
   "cell_type": "code",
   "execution_count": 10,
   "metadata": {},
   "outputs": [
    {
     "name": "stdout",
     "output_type": "stream",
     "text": [
      "0.98\n"
     ]
    }
   ],
   "source": [
    "#Calculo de Probabilidad\n",
    "#Nivel de confianza -> NC\n",
    "def CalcularProbabilidad(NC):\n",
    "    resultado = (1-((1-(NC/100))/2))\n",
    "    return resultado\n",
    "\n",
    "Probabilidad= CalcularProbabilidad(96)\n",
    "print(Probabilidad)"
   ]
  },
  {
   "cell_type": "markdown",
   "metadata": {},
   "source": [
    "Ahora con la probabilidad se encuentra su calificacion en $Z$ con la ayuda de la tabla\n",
    "\n",
    "[Tabla_PDF](../Documents/tablaZ.pdf)\n",
    "\n",
    "Se ubica el valor calculado exacto o aproximado luego se suman los valores de su columna y fila\n",
    "\n",
    "En este caso se llego a $Z = 2.05$\n",
    "\n",
    "Ahora con los datos del problema y el valor de Z encontrado se procede a aplicar la **formula**\n",
    "\n",
    "$$\n",
    "n=\\frac{\\mathbb{Z}^2*\\sigma^2}{\\mathbb{E}^2}\n",
    "$$"
   ]
  },
  {
   "cell_type": "code",
   "execution_count": 7,
   "metadata": {},
   "outputs": [
    {
     "name": "stdout",
     "output_type": "stream",
     "text": [
      "61.463341131106006\n"
     ]
    }
   ],
   "source": [
    "# DATOS:\n",
    "# o -> Desviacion Estandar  |   Error -> E\n",
    "import math\n",
    "import scipy.stats as st\n",
    "NC=0.96\n",
    "Z: float(st.norm.ppf(1-(1-NC)/2))\n",
    "o=40\n",
    "E=10\n",
    "\n",
    "n = ((Z**2)*(o**2))/E**2\n",
    "\n",
    "print(n)"
   ]
  },
  {
   "cell_type": "markdown",
   "metadata": {},
   "source": [
    "Se necesita una muestra de 67 focos para estimar la media de la población y tener un error máximo de 10 horas."
   ]
  },
  {
   "cell_type": "markdown",
   "metadata": {},
   "source": [
    "### Caso 2 (Poblacion Desconocida-Proporcion Poblacional)\n",
    "\n",
    "¿Cuántos estudiantes debe tener una muestra, con el tal de estimar ta proporción estudiantes que tienen correo electrónico?.\n",
    "En un estudio previo. Se halló que de 150 estudiantes, 120 tenían correo electrónico. Se desea tener un nivel de confianza del 95% y un error del 3% en las estimaciones."
   ]
  },
  {
   "cell_type": "markdown",
   "metadata": {},
   "source": [
    "**Se aplica la siguiente formula:**\n",
    "$$\n",
    "n=\\frac{\\mathbb{Z}_\\alpha^2*p*q}{\\epsilon^2}\n",
    "$$"
   ]
  },
  {
   "cell_type": "code",
   "execution_count": 6,
   "metadata": {},
   "outputs": [
    {
     "name": "stdout",
     "output_type": "stream",
     "text": [
      "682.9260125678444\n"
     ]
    }
   ],
   "source": [
    "import scipy.stats as st\n",
    "# DATOS:\n",
    "NC: float = 0.95\n",
    "# Proporcion de la poblacion \n",
    "P = (120/150)\n",
    "Q = 1-P\n",
    "# Margen de error \n",
    "E = 3/100\n",
    "Z: float = float(st.norm.ppf(1-(1-NC)/2))\n",
    "\n",
    "n = ((Z**2)*P*Q)/E**2\n",
    "\n",
    "print(n)"
   ]
  },
  {
   "cell_type": "markdown",
   "metadata": {},
   "source": [
    "## Distribución de la diferencia de dos medias muestrales con varianza poblacional conocida\n",
    "\n",
    "La empresa Industria SAC desea comparar los pesos promedio de los\n",
    "cereales de trigo y cereales de maíz que produce, para tal motivo usa una\n",
    "muestra aleatoria de 20 cereales de trigo y 25 de cereales de maíz, Se\n",
    "sabe que tanto para los cereales de trigo como para los de maíz los pesos\n",
    "siguen una distribución normal. El promedio de los pesos de todos los\n",
    "cereales de trigo es de 100 libras y su desviación estándar es de 14.142,\n",
    "mientras que el promedio de los pesos de todos los cereales de maíz es de\n",
    "85 libras y su desviación estándar es de 12.247 libras. Encuentre la\n",
    "probabilidad de que el promedio de los pesos de los cereales de trigo sea\n",
    "al menos 20 libras más grande que el de maíz.\n",
    "\n",
    "Los parámetros relevantes son:\n",
    "- Para los cereales de trigo:\n",
    "  - Promedio ($\\mu_1$): 100 libras\n",
    "  - Desviación estándar ($\\sigma_1$): 14.142 libras\n",
    "  - Tamaño de muestra ($n_1$): 20\n",
    "\n",
    "- Para los cereales de maíz:\n",
    "  - Promedio ($\\mu_2$): 85 libras\n",
    "  - Desviación estándar ($\\sigma_2$): 12.247 libras\n",
    "  - Tamaño de muestra ($n_2$): 25\n",
    "\n",
    "$$\n",
    "Z_{C}=\\frac{\\overline{(X_{1}}-\\overline{X_{2}})-(\\mu_{1}-\\mu_{2})}{\\sqrt{\\frac{\\sigma_{1}{}^{2}}{n_{1}}+\\frac{\\sigma_{2}{}^{2}}{n_{2}}}}\\sim N(0,1)\n",
    "$$"
   ]
  },
  {
   "cell_type": "code",
   "execution_count": 21,
   "metadata": {},
   "outputs": [
    {
     "name": "stdout",
     "output_type": "stream",
     "text": [
      "Valor Z: 1.25\n",
      "La probabilidad es: 0.10565\n"
     ]
    }
   ],
   "source": [
    "import math\n",
    "import scipy.stats as st\n",
    "\n",
    "# Encuentre la probabilidad (P) de que el promedio de los pesos de los cereales de trigo sea al menos 20 libras más grande que el de maíz.\n",
    "# P(X1-X2>=20)\n",
    "X1X2 = 20\n",
    "u1 = 100\n",
    "u2 = 85\n",
    "o1 = 14.142\n",
    "o2 = 12.247\n",
    "n1 = 20\n",
    "n2 = 25\n",
    "\n",
    "Z = (X1X2 - (u1 - u2)) / math.sqrt((o1 ** 2 / n1) + (o2 ** 2 / n2))\n",
    "\n",
    "Zredondeado = round(Z, 2)\n",
    "\n",
    "print(\"Valor Z:\",Zredondeado)\n",
    "\n",
    "# Si tenemos P(X1-X2>=20) entonces = 1 - P(Z <= Zredondeado)\n",
    "P = 1 - st.norm.cdf(Zredondeado)\n",
    "\n",
    "Predondeado = round(P,5)\n",
    "print(\"La probabilidad es:\", Predondeado)"
   ]
  },
  {
   "cell_type": "markdown",
   "metadata": {},
   "source": [
    "## Distribución de la diferencia de dos medias muestrales con varianza poblacional desconocida\n",
    "\n",
    "Dos drogas, A y B, de las que se dice que reducen el tiempo de respuesta de las ratas a determinado estímulo, se están comparando en un experimento de laboratorio. El experimentador sabe que en las respectivas poblaciones los tiempos de respuesta al estímulo están distribuidos normalmente. Se administra la droga A a 12 ratas y la droga B a 15. Cuando se lleva a cabo el experimento, Ia reducción promedio de tiempo de respuesta al estímulo por parte de las ratas que están recibiendo la droga A es 62.037 milisegundos con una desviación típica de 8.44 milisegundos. Los datos correspondientes a Ia droga B son 61.022 y 9.44 milisegundos. ¿Cuál es la probabilidad de que de que la diferencia entre la reducción promedio de tiempo de respuesta al estímulo por parte de las ratas que están recibiendo la droga A y la de las ratas que están recibiendo la droga B sea como mínimo tres unidades mayor a la observada en el experimento?. Suponga que no hay diferencia alguna entre las dos drogas con respecto a la reducción promedio en tiempos de respuestas y que las drogas son igualmente efectivas.\n",
    "\n",
    "**Caso a. Las varianzas poblacionales son desconocidas pero iguales:**\n",
    "\n",
    "$$ \n",
    "{\\sigma^{2}}_{1}={\\sigma^{2}}_{2}={\\sigma^{2}} \n",
    "$$\n",
    "\n",
    "$$\n",
    "T=\\frac{\\overline{(X_{1}}-\\overline{X}_{2})-(\\mu_{1}-\\mu_{2})}{\\sqrt{s_{P}{}^{2}\\left(\\frac{1}{n_{1}}+\\frac{1}{n_{2}}\\right)}}\\sim t_{n_{1}+n_{2-2}}\n",
    "$$\n",
    "\n",
    "Tiene una distribucion t student con grado de libertad : $n1 + n2 - 2$\n",
    "\n",
    "**Donde:**\n",
    "\n",
    "$$\n",
    "S_{P}{}^{2}=\\frac{\\left(n_{1}-1\\right)S_{1}{}^{2}+\\left(n_{2}-1\\right)S_{2}{}^{2}}{n_{1}+n_{2}-2}\n",
    "$$\n",
    "\n",
    "Los parámetros relevantes son:\n",
    "- Droga A:\n",
    "  - Promedio ($\\mu_1$): 62.037\n",
    "  - Tamaño de muestra ($n_1$): 12\n",
    "  - Varianza Muestral (${S_{1}}$): 8.44\n",
    "\n",
    "- Droga B:\n",
    "  - Promedio ($\\mu_1$): 61.022\n",
    "  - Tamaño de muestra ($n_1$): 15\n",
    "  - Varianza Muestral (${S_{2}}$): 9.44\n"
   ]
  },
  {
   "cell_type": "code",
   "execution_count": 3,
   "metadata": {},
   "outputs": [
    {
     "name": "stdout",
     "output_type": "stream",
     "text": [
      "Varianza Combinada 81.2464\n",
      "T: 0.5686\n",
      "La probabilidad es de: 0.2874\n"
     ]
    }
   ],
   "source": [
    "import math\n",
    "import scipy.stats as st\n",
    "\n",
    "# Cuál es la probabilidad de que la diferencia entre la reducción promedio de tiempo de respuesta al estímulo por parte de las ratas que están recibiendo la droga A y la de las ratas que están recibiendo la droga B sea como mínimo tres unidades mayor a la observada en el experimento\n",
    "# Entonces -> P(X1-X2 > 3) = ?\n",
    "\n",
    "X1X2 = 3\n",
    "u1 = 62.037\n",
    "u2 = 61.022\n",
    "n1 = 12\n",
    "n2 = 15\n",
    "S1 = 8.44\n",
    "S2 = 9.44\n",
    "\n",
    "# Ahora calculamos el valor de Sp^2\n",
    "Sp = ((n1 - 1) * S1**2 + (n2 - 1) * S2**2) / (n1 + n2 - 2)\n",
    "\n",
    "# Aplicamos la fórmula para T\n",
    "T = round((X1X2 - (u1 - u2)) / math.sqrt(Sp * ((1/n1) + (1/n2))),4)\n",
    "\n",
    "# Como tenemos P(X1-X2 > 3) entonces:\n",
    "P = round((1 - st.t.cdf(T, df=n1 + n2 - 2)),4)\n",
    "\n",
    "print(\"Varianza Combinada\",Sp)\n",
    "print(\"T:\",T)\n",
    "print(\"La probabilidad es de:\", P)"
   ]
  },
  {
   "cell_type": "markdown",
   "metadata": {},
   "source": [
    "## Distribución de la diferencia de dos medias muestrales con varianza\n",
    "\n",
    "Un equipo de psicólogos está investigando si existen o no diferencias entre dos métodos de relajación para reducir la ansiedad. Para lo cual se seleccionan dos muestras de tamaño 10 cada una, a las que se les aplicó el método **X** e **Y** respectivamente. Obteniéndose que las varianzas muestrales son de 3.7 y 4.2 puntos respectivamente. Suponiendo que las puntuaciones de ansiedad de ambas poblaciones siguen distribuciones muestrales con medias poblacionales de 90 y 87.3 puntos respectivamente y que las varianzas poblacionales son desconocidas pero se sabe que son diferentes. Hallar la probabilidad de la media muestral de puntuación del método **X** sea como mínimo 6 unidades mayor que el método **Y**.\n",
    "\n",
    "Las varianzas poblacionales son conocidas pero diferentes:\n",
    "\n",
    "$$\\sigma^2{}_1\\neq\\sigma^2{}_2$$\n",
    "\n",
    "Tiene una distribucion T student con grado de libertad:\n",
    "\n",
    "$$\n",
    "T=\\frac{\\overline{(X}_1-\\overline{X}_2)-(\\boldsymbol{\\mu}_1-\\boldsymbol{\\mu}_2)}{\\sqrt{\\frac{S_1}{n_1}+\\frac{S_2}{n_2}}}\n",
    "$$\n",
    "\n",
    "**Donde:**\n",
    "\n",
    "$$\n",
    "\\mathrm{v}=\\frac{\\left(\\frac{s_1}{n_1}^2+\\frac{S_2^2}{n_2}\\right)^2}{\\frac{\\left(\\frac{s_1}{n_1}^2\\right)^2}{n_1-1}+\\frac{\\left(\\frac{s_2^2}{n_2}\\right)^2}{n_2-1}}\n",
    "$$\n",
    "\n",
    "Los parámetros relevantes son:\n",
    "- Metodo X:\n",
    "  - Promedio ($\\mu_1$): 90\n",
    "  - Tamaño de muestra ($n_1$): 10\n",
    "  - Varianza Muestral (${S_{1}}^{2}$): 3.7\n",
    "\n",
    "- Metodo Y:\n",
    "  - Promedio ($\\mu_1$): 87.3\n",
    "  - Tamaño de muestra ($n_1$): 10\n",
    "  - Varianza Muestral (${S_{2}}^{2}$): 4.2\n"
   ]
  },
  {
   "cell_type": "code",
   "execution_count": 2,
   "metadata": {},
   "outputs": [
    {
     "name": "stdout",
     "output_type": "stream",
     "text": [
      "Grados de Libertad: 18\n",
      "T: 3.7128\n",
      "Z: 0.9992\n",
      "La probabilidad es de: 0.0008\n"
     ]
    }
   ],
   "source": [
    "import math\n",
    "import scipy.stats as st\n",
    "\n",
    "# Hallar la probabilidad de que la media muestral de puntuación del método X sea como mínimo 6 unidades mayor que el método Y\n",
    "# Entonces -> P(X1-X2 > 6)\n",
    "\n",
    "X1X2 = 6\n",
    "u1 = 90\n",
    "u2 = 87.3\n",
    "n1 = 10\n",
    "n2 = 10\n",
    "S1 = 3.7\n",
    "S2 = 4.2\n",
    "\n",
    "# Ahora calculamos los grados de Libertad V:\n",
    "V = round(((S1/n1)+(S2/n2))**2 / ((((S1/n1)**2) / (n1-1)) + (((S2/n2)**2) / (n2-1))))\n",
    "\n",
    "# Aplicamos la fórmula para T\n",
    "T = round((X1X2 - (u1 - u2)) / math.sqrt(S1/n1 + S2/n2),4)\n",
    "\n",
    "# Como tenemos P(X1-X2 > 3) entonces:\n",
    "Z = round(st.t.cdf(T, V), 4)\n",
    "\n",
    "P = round((1 - Z),4)\n",
    "\n",
    "print(\"Grados de Libertad:\", V)\n",
    "print(\"T:\", T)\n",
    "print(\"Z:\",Z)\n",
    "print(\"La probabilidad es de:\", P)\n"
   ]
  }
 ],
 "metadata": {
  "kernelspec": {
   "display_name": "Python 3",
   "language": "python",
   "name": "python3"
  },
  "language_info": {
   "codemirror_mode": {
    "name": "ipython",
    "version": 3
   },
   "file_extension": ".py",
   "mimetype": "text/x-python",
   "name": "python",
   "nbconvert_exporter": "python",
   "pygments_lexer": "ipython3",
   "version": "3.12.0"
  }
 },
 "nbformat": 4,
 "nbformat_minor": 2
}
