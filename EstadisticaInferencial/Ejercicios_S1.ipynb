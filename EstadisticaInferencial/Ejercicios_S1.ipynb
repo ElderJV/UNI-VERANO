{
 "cells": [
  {
   "cell_type": "markdown",
   "metadata": {},
   "source": [
    "## Muestreo Aleatorio Simple\n",
    "\n",
    "Simplemente se escoje un dato al azar, se puede uzar la formula +ALEATORIO.entre() en excel"
   ]
  },
  {
   "cell_type": "code",
   "execution_count": 13,
   "metadata": {},
   "outputs": [
    {
     "name": "stdout",
     "output_type": "stream",
     "text": [
      "Numero aleatorio: 2\n",
      "Valor del numero aleatorio: 16\n",
      "Elemento aleatorio directo: 4\n"
     ]
    }
   ],
   "source": [
    "# Ejemplo de selecion al azar con un arreglo\n",
    "# Se utilizo el modulo random\n",
    "import random\n",
    "\n",
    "# Se crea la lista de numeros\n",
    "datos = [15,16,4,7,4]\n",
    "\n",
    "# Se declaran los rangos y se genera el numero al azar\n",
    "valorMinimo=1\n",
    "valorMaximo=5\n",
    "numeroRandom =  random.randint(valorMinimo,valorMaximo)\n",
    "\n",
    "# Se ubica al dato con el valor generado\n",
    "datoValor = datos[numeroRandom-1]\n",
    "print(\"Numero aleatorio:\",numeroRandom)\n",
    "print(\"Valor del numero aleatorio:\",datoValor)\n",
    "\n",
    "# Tambien se puede elegir directamente de la lista, si no\n",
    "# se cuenta con un rango.\n",
    "\n",
    "elementoAzar = random.choice(datos)\n",
    "print(\"Elemento aleatorio directo:\",elementoAzar)\n"
   ]
  },
  {
   "cell_type": "markdown",
   "metadata": {},
   "source": [
    "## Muestreo sistematico\n",
    "\n",
    "**Se debe definir el tamaño de la poblacion y la muestra**\n",
    "\n",
    "N -> Poblacion\n",
    "n -> Muestra\n",
    "\n",
    "**Se define el valor K**\n",
    "\n",
    "K -> N/n\n",
    "\n",
    "**Elejimos un valor aleatorio entre 1 y K**\n",
    "\n",
    "valorAleatorio = random.randint(1,k)\n",
    "\n",
    "**Se declaran los siguientes valores**\n",
    "\n",
    "Primera Seleccion = K\n",
    "Frecuencia = valorAleatorio\n",
    "Segunda selecion y posteriores = k + valorAleatorio"
   ]
  },
  {
   "cell_type": "markdown",
   "metadata": {},
   "source": [
    "## Muestreo Estratificado\n",
    "\n",
    "**Se debe contar con las varibales en porcentaje**\n",
    "\n",
    "Ejemplo:\n",
    "Genero | Masculino | 49%\n",
    "\n",
    "**Se debe multiplicar el porcentaje por el tamaño de la muestra**\n",
    "\n",
    "Ejemplo:\n",
    "n = 30\n",
    "valorMuestreo = 30 * 0.49 = 14.7 ≈ 15\n",
    "\n",
    "![cap1](/Images/cap1.png)"
   ]
  }
 ],
 "metadata": {
  "kernelspec": {
   "display_name": "Python 3",
   "language": "python",
   "name": "python3"
  },
  "language_info": {
   "codemirror_mode": {
    "name": "ipython",
    "version": 3
   },
   "file_extension": ".py",
   "mimetype": "text/x-python",
   "name": "python",
   "nbconvert_exporter": "python",
   "pygments_lexer": "ipython3",
   "version": "3.12.0"
  }
 },
 "nbformat": 4,
 "nbformat_minor": 2
}
