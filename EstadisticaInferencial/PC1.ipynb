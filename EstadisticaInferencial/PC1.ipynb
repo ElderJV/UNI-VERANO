{
 "cells": [
  {
   "cell_type": "markdown",
   "metadata": {},
   "source": [
    "# Practica Calificada N°1\n",
    "\n",
    "**Problema N°1**\n",
    "\n",
    "Una muestra de 90 clientes de cierta gasolinera indica que el número medio de galones comprados es de 15.2 y la desviación estándar de 2.7 galones. Construya un intervalo de confianza del 95 % para el número medio de galones de gasolina comprados.\n",
    "\n",
    "**Se empleara:**\n",
    "$$\n",
    "IC{:}\\quad\\bar{X}-Z_{(1-\\frac\\alpha2)}\\cdot\\frac\\sigma{\\sqrt{n}}\\leq\\mu\\leq\\bar{X}+Z_{(1-\\frac\\alpha2)}\\cdot\\frac\\sigma{\\sqrt{n}}\n",
    "$$\n",
    "\n",
    "Los parámetros relevantes son:\n",
    "- Varianza Poblacional ( $\\sigma$ ) = 2.7\n",
    "- Promedio ($\\bar{X}$) = 15.2\n",
    "- Tamaño de muestra ($n$) = 90\n",
    "- Confianza = 95 %\n",
    "\n",
    "**Si:**\n",
    "1 - $\\alpha$ = 0.95\n",
    "\n",
    "**Entonces:**\n",
    "- $\\alpha$ = 0.05"
   ]
  },
  {
   "cell_type": "code",
   "execution_count": 2,
   "metadata": {},
   "outputs": [
    {
     "name": "stdout",
     "output_type": "stream",
     "text": [
      "0.975\n",
      "1.96\n",
      "IC: 14.642174220746297  u  15.757825779253702\n"
     ]
    }
   ],
   "source": [
    "import scipy.stats as st\n",
    "import math\n",
    "# Asignando valores:\n",
    "O = 2.7\n",
    "X = 15.2\n",
    "n = 90\n",
    "# a -> calculado previamente\n",
    "a = 0.05\n",
    "Za= 1-(a/2)\n",
    "\n",
    "# Calculamos Z\n",
    "Z = round((st.norm.ppf(Za)),2)\n",
    "\n",
    "# Reemplazamos en la formula IC\n",
    "IC1 = X-(Z*O/math.sqrt(n)) \n",
    "IC2 = X+(Z*O/math.sqrt(n)) \n",
    "\n",
    "print(Za)\n",
    "print(Z)\n",
    "print(\"IC:\",IC1,\" u \",IC2)"
   ]
  },
  {
   "cell_type": "markdown",
   "metadata": {},
   "source": [
    "Con un nivel de confianza del 95%, el numero medio de galones de gasolina comprados está comprendido desde 14.642 a 15.757.\n",
    "\n",
    "---"
   ]
  },
  {
   "cell_type": "markdown",
   "metadata": {},
   "source": [
    "**Ejercicio N°2**\n",
    "\n",
    "Se quiere comparar el gasto mensual en arbitrios de dos ciudades A y B, por lo cual se toma una muestra al azar de 200 hogares de cada ciudad, donde la media de la ciudad A resulto S/. 350 y la de B; S/. 230. Si se sabe que la desviación poblacional en A es de S/. 40 y en B de S/. 30, calcule el intervalo de confianza a un 95% para la diferencia de medias e indique si el gasto medio en ambas ciudades es el mismo. \n",
    "\n",
    "Los parametros relevantes son:\n",
    "- Varianza Poblacional (Desviacion) ($\\sigma_1^2$) = 40\n",
    "- Muestra 1 ($n_1$) = 200 \n",
    "- Promedio 1 ($\\bar{X}_1$) = 350\n",
    "- Varianza Poblacional (Desviacion) ($\\sigma_2^2$) = 30\n",
    "- Muestra 2 ($n_2$) = 200\n",
    "- Promedio 2 ($\\bar{X}_2$) = 230\n",
    "- Confianza = 95%\n",
    "\n",
    "**Formula a utilizar:**\n",
    "\n",
    "$$\n",
    "IC=(X_1-X_2)-Z_{(1-\\frac{\\alpha}{2})}\\sqrt[]{\\frac{\\sigma_1{}^2}{n_1}+\\frac{\\sigma_2{}^2}{n_2}}\\leq\\boldsymbol{\\mu_1}-\\boldsymbol{\\mu_2}\\leq(X_1-X_2)+Z_{(1-\\frac{\\alpha}{2})}\\sqrt[]{\\frac{\\sigma_1{}^2}{n_1}+\\frac{\\sigma_2{}^2}{n_2}}\n",
    "$$\n",
    "\n",
    "**Si:**\n",
    "1 - $\\alpha$ = 0.95\n",
    "\n",
    "**Entonces:**\n",
    "- $\\alpha$ = 0.05"
   ]
  },
  {
   "cell_type": "code",
   "execution_count": 6,
   "metadata": {},
   "outputs": [
    {
     "name": "stdout",
     "output_type": "stream",
     "text": [
      "Za: 0.975\n",
      "Z: 1.96\n",
      "Intervalo de confianza: 113.07 <= μ <= 126.93\n"
     ]
    }
   ],
   "source": [
    "import scipy.stats as st\n",
    "import math\n",
    "\n",
    "# Asignando valores:\n",
    "o1 = 40\n",
    "o2 = 30\n",
    "n1 = 200\n",
    "n2 = 200\n",
    "x1 = 350\n",
    "x2 = 230\n",
    "# a -> calculado previamente\n",
    "a = 0.05\n",
    "Za=1 - a / 2\n",
    "\n",
    "# Calculamos Z\n",
    "Z = round(st.norm.ppf(Za), 3)\n",
    "\n",
    "# Reemplazamos en la fórmula IC\n",
    "IC1 = round((x1 - x2) - Z * (math.sqrt(o1**2 / n1 + o2**2 / n2)), 3)\n",
    "IC2 = round((x1 - x2) + Z * (math.sqrt(o1**2 / n1 + o2**2 / n2)), 3)\n",
    "\n",
    "print(\"Za:\",Za)\n",
    "print(\"Z:\", Z)\n",
    "print(\"Intervalo de confianza:\", IC1, \"<= \\u03BC <=\", IC2)"
   ]
  },
  {
   "cell_type": "markdown",
   "metadata": {},
   "source": [
    "Con un nivel de confianza del 95% podemos decir que la diferencia de medias de los gastos en arbitrios de las ciudades A y B se encuentran en el intervalo (113.07 y 126.93)\n",
    "\n",
    "---"
   ]
  },
  {
   "cell_type": "markdown",
   "metadata": {},
   "source": [
    "**Problema N°3**\n",
    "\n",
    "Un proceso está programado para embolsar la cantidad media gramos de café. Últimamente se ha visto que la maquina está embolsando menos, por tal razón se toma una muestra aleatoria de 100 bolsas, resultando que 26 de ellas tienen menos de 250 gramos. Construya un intervalo de confianza del 95% para la proporción de bolsas con menor peso de lo deseado. \n",
    "\n",
    "Parametros resaltantes:\n",
    "- Muestra ($n$) = 100\n",
    "- Numero de exitos en la muestra ($X$) = 26\n",
    "- Confianza = 95%\n",
    "\n",
    "**Formulas a utilizar:**\n",
    "$$\n",
    "IC=p-Z_{\\left(1-\\frac\\alpha2\\right)^\\bullet}\\sqrt{\\frac{pq}n}<{\\pi}<p+Z_{\\left(1-\\frac\\alpha2\\right)^\\bullet}\\sqrt{\\frac{pq}n}\n",
    "$$\n",
    "\n",
    "A favor:\n",
    "$$\n",
    "p=\\frac{X}{n}\n",
    "$$\n",
    "En contra:\n",
    "$$\n",
    "q = 1 - p \n",
    "$$"
   ]
  },
  {
   "cell_type": "code",
   "execution_count": 11,
   "metadata": {},
   "outputs": [
    {
     "name": "stdout",
     "output_type": "stream",
     "text": [
      "P: 0.26 | Q: 0.74 | a: 0.05 | Za: 0.975\n",
      "Z: 1.96\n",
      "Intervalo de confianza: 0.174 <= pi <= 0.346\n"
     ]
    }
   ],
   "source": [
    "import scipy.stats as st\n",
    "import math\n",
    "\n",
    "# Asignando valores:\n",
    "n=100\n",
    "X=26\n",
    "CF=0.95\n",
    "p=X/n\n",
    "q=1-p\n",
    "a = round(1 - CF,3)\n",
    "Za=1-(a/2)\n",
    "\n",
    "# Calculamos Z\n",
    "Z = round(st.norm.ppf(Za),4)\n",
    "\n",
    "# Aplicamos la formula IC\n",
    "IC1 = round(p-Z*(math.sqrt(p*q/n)),3)\n",
    "IC2 = round(p+Z*(math.sqrt(p*q/n)),3)\n",
    "\n",
    "print(\"P:\",p,\"| Q:\",q,\"| a:\",a,\"| Za:\",Za)\n",
    "print(\"Z:\", Z)\n",
    "print(\"Intervalo de confianza:\", IC1, \"<= pi <=\", IC2)"
   ]
  },
  {
   "cell_type": "markdown",
   "metadata": {},
   "source": [
    "Con un nivel de confianza del 95% podemos concluir que la verdadera prorcion de bolsas de cafe con menor peso se encuentra en el intervalo de (0.174,0.346)\n",
    "\n",
    "---"
   ]
  },
  {
   "cell_type": "markdown",
   "metadata": {},
   "source": [
    "**Pregunta N°4**\n",
    "\n",
    "Un estudio demostró que 64 de 180 personas que vieron una fotocopiadora anunciada durante la transmisión de un juego de béisbol y 75 de otras 190 personas que la vieron anunciada en un programa de variedades recordaron la marca 2 horas después. Halle un intervalo de confianza al 90% e indique si el programa de variedades tuvo mayor porcentaje de efectividad o no. \n",
    "\n",
    "Parametros resaltantes:\n",
    "- Muestra 1 ($n_1$) = 180\n",
    "- Numero de exitos 1 ($X_1$) = 64\n",
    "- Muestra 2 ($n_2$) = 190\n",
    "- Numero de extios 2 ($X_2$) = 75\n",
    "- Confianza = 90%\n",
    "\n",
    "**Formulas a utilizar:**\n",
    "$$\n",
    "IC= {p_1-p_2-Z_{(1-\\frac{\\alpha}{2})}\\sqrt{\\frac{p_1q_1}{n_1}+\\frac{p_2q_2}{n_2}}<\\pi_1-\\pi_2<p_1-p_2-Z_{(1-\\frac{\\alpha}{2})}\\sqrt{\\frac{p_1q_1}{n_1}+\\frac{p_2q_2}{n_2}}}\n",
    "$$\n",
    "\n",
    "A favor:\n",
    "$$\n",
    "p=\\frac{X}{n}\n",
    "$$\n",
    "En contra:\n",
    "$$\n",
    "q = 1 - p \n",
    "$$"
   ]
  },
  {
   "cell_type": "code",
   "execution_count": 15,
   "metadata": {},
   "outputs": [
    {
     "name": "stdout",
     "output_type": "stream",
     "text": [
      "p1: 0.35555555555555557 p2: 0.39473684210526316 q1: 0.6444444444444444 q2: 0.6052631578947368 a: 0.1\n",
      "Za: 0.95 Z: 1.6449\n",
      "Intervalo de confianza: -0.122 <= pi <= 0.044\n"
     ]
    }
   ],
   "source": [
    "import scipy.stats as st\n",
    "import math\n",
    "\n",
    "# Asignando valores:\n",
    "n1=180\n",
    "n2=190\n",
    "x1=64\n",
    "x2=75\n",
    "CF=0.9\n",
    "\n",
    "p1=x1/n1\n",
    "p2=x2/n2\n",
    "q1=1-p1\n",
    "q2=1-p2\n",
    "a = round(1 - CF,3)\n",
    "Za=1-(a/2)\n",
    "\n",
    "# Calculamos Z\n",
    "Z = round(st.norm.ppf(Za),4)\n",
    "\n",
    "# Aplicamos la formula IC\n",
    "IC1 = round((p1-p2)-Z*(math.sqrt(p1*q1/n1+p2*q2/n2)),3)\n",
    "IC2 = round((p1-p2)+Z*(math.sqrt(p1*q1/n1+p2*q2/n2)),3)\n",
    "\n",
    "print(\"p1:\",p1,\"p2:\",p2,\"q1:\",q1,\"q2:\",q2,\"a:\",a)\n",
    "print(\"Za:\",Za,\"Z:\", Z)\n",
    "print(\"Intervalo de confianza:\", IC1, \"<= pi <=\", IC2)"
   ]
  },
  {
   "cell_type": "markdown",
   "metadata": {},
   "source": [
    "Con un 90% de confianza la verdadera diferencia de proporciones está entre -0.122 y 0,044.\n",
    "\n",
    "---"
   ]
  },
  {
   "cell_type": "markdown",
   "metadata": {},
   "source": [
    "**Problema N°5**\n",
    "\n",
    "En el área de producción de una gran embotelladora se desea estudiar la variabilidad del diámetro de la tapa de frasco, para ello se realiza una muestra de 20 envases donde la desviación es de 1.9 mm. Si al 98% de confianza, la desviación es menor a 1.25 mm, no se procede a hacer una revisión de las maquinas, en caso contrario se hará una revisión general. Con la información obtenida ¿que procede?\n",
    "\n",
    "Parametros resaltantes:\n",
    "- Muestra 1 ($n$) = 20\n",
    "- Confianza = 98%\n",
    "\n",
    "**Formula a utilizar:**\n",
    "Intervalo de confianza para la desviacion estandar:\n",
    "$$\n",
    "\\sqrt{\\frac{(n-1)S^2}{X^2_{(1-\\frac{\\alpha}{2},n-1)}}}<\\sigma<\\sqrt{\\frac{(n-1)S^2}{X^2_{(\\frac{\\alpha}{2},n-1)}}}\n",
    "$$"
   ]
  },
  {
   "cell_type": "code",
   "execution_count": 2,
   "metadata": {},
   "outputs": [
    {
     "name": "stdout",
     "output_type": "stream",
     "text": [
      "X1: 36.1909\n",
      "X2: 7.6327\n",
      "Intervalo de confianza: 0.999 < σ < 2.175\n"
     ]
    }
   ],
   "source": [
    "import scipy.stats as st\n",
    "import numpy as np\n",
    "import math\n",
    "\n",
    "# Asignando valores:\n",
    "n=20\n",
    "CF=0.98\n",
    "S= 1.9\n",
    "a= 1 - CF\n",
    "\n",
    "# Calculamos X usando la tabla Chi-Cuadrado\n",
    "X1 = round(st.chi2.ppf(1-(a/2),n-1),4)\n",
    "X2 = round(st.chi2.ppf(a/2,n-1),4)\n",
    "\n",
    "# Aplicamos la formula IC\n",
    "IC1 = round(math.sqrt((n-1)*S/X1),3)\n",
    "IC2 = round(math.sqrt((n-1)*S/X2),3)\n",
    "\n",
    "print(\"X1:\", X1)\n",
    "print(\"X2:\", X2)\n",
    "print(\"Intervalo de confianza:\", IC1, \"< σ <\", IC2)"
   ]
  }
 ],
 "metadata": {
  "kernelspec": {
   "display_name": "Python 3",
   "language": "python",
   "name": "python3"
  },
  "language_info": {
   "codemirror_mode": {
    "name": "ipython",
    "version": 3
   },
   "file_extension": ".py",
   "mimetype": "text/x-python",
   "name": "python",
   "nbconvert_exporter": "python",
   "pygments_lexer": "ipython3",
   "version": "3.11.5"
  }
 },
 "nbformat": 4,
 "nbformat_minor": 2
}
