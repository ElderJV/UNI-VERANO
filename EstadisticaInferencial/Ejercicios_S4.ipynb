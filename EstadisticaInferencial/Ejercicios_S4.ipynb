{
 "cells": [
  {
   "cell_type": "markdown",
   "metadata": {},
   "source": [
    "## Prueba de Hipotesis para la Proporcion\n",
    "Una funcionaria experimentada, preocupada por la contaminación ambiental, afirma en una audiencia pública que \"menos del 60% de las plantas industriales de esta área cumple con los estándares de cuidado del ambiente\". Se realiza una nueva investigación. Para ello. se muestrea aleatoriamente a 60 plantas de una población grande y encuentra que 33 cumple con los estándares de cuidado del ambiente. ¿Se sigue cumpliendo lo mencionado por la funcionaria en el nuevo estudio? Use un nivel de significancia de 0.05 y asuma la normalidad de la variable de interés\n",
    "\n",
    "**Ubicamos las variable de estudio**\n",
    "\n",
    "* $\\pi_1$= Propocrcion de plantas que cumplen con los estandares de cuidado del medio ambiente.\n",
    "* $X$= Numero de plantas que cumplen con los estandares de cuidado del medio ambiente\n",
    "\n",
    "**Planteamos la hipotesis**\n",
    "* $H_0:\\pi_1\\geq0.6$\n",
    "* $H_1:\\pi_1<0.6$ \n",
    "\n",
    "**Se empleara:**\n",
    "$$\n",
    "Z_{cal}=\\frac{p-{\\pi_{hip}}}{\\sqrt{\\frac{\\pi_{hip}(1-{\\pi_{hip}})}n}}\n",
    "$$\n",
    "$$\n",
    "P = X_1/n\n",
    "$$\n",
    "$$\n",
    "Q = 1 - P\n",
    "$$\n",
    "\n",
    "Los parámetros relevantes son:\n",
    "\n",
    "- Valor de Prueba de Hipotesis $\\pi_{hip}$ = 0.6\n",
    "- (*Parametro Local*) Numero de plantas que cumplen con los estandares ($X_1$) = 33\n",
    "- Tamaño de muestra ($n$) = 60\n",
    "- Nivel de significancia $\\alpha$ = 0.05"
   ]
  },
  {
   "cell_type": "code",
   "execution_count": 1,
   "metadata": {},
   "outputs": [
    {
     "name": "stdout",
     "output_type": "stream",
     "text": [
      "Se acepta H0\n",
      "Zc = -0.791\n",
      "Z tabla = -1.645\n"
     ]
    }
   ],
   "source": [
    "import scipy.stats as st\n",
    "import math\n",
    "\n",
    "# Asignando valores:\n",
    "piHip = 0.6\n",
    "X1 = 33\n",
    "n = 60\n",
    "P = X1/n\n",
    "Q = 1-P\n",
    "a = 0.05\n",
    "\n",
    "# Reemplazamos en la formula\n",
    "Zc = round((P-piHip)/(math.sqrt((piHip*(1-piHip))/n)),3)\n",
    "\n",
    "# Calculamos Z\n",
    "Z = round((st.norm.ppf(a)),3)\n",
    "\n",
    "# Como tenemos >= el rechazo esta a la izquierda\n",
    "if Zc>Z:\n",
    "    respuesta=(\"Se acepta H0\")\n",
    "else:\n",
    "    respuesta=(\"Se rechaza H0\")\n",
    "\n",
    "print(respuesta)\n",
    "print(\"Zc =\",Zc)\n",
    "print(\"Z tabla =\",Z)"
   ]
  },
  {
   "cell_type": "markdown",
   "metadata": {},
   "source": [
    "A un nivel de significacion de 0.05 no hay suficiente evidencia estadistica para rechazar H0. El % de plantas industriales que cumplen con los estandares de cuidados del medio ambiente es mayor o igual a 0,60."
   ]
  },
  {
   "cell_type": "markdown",
   "metadata": {},
   "source": [
    "## Prueba de Hipotesis para la diferencia de proporciones\n",
    "Considere el caso una compañía que fabrica productos medicinales y que está probando dos nuevos compuestos destinados a reducir los niveles de presion sanguínea. Los compuestos se administran a dos conjuntos de animales de laboratorio. \n",
    "En el grupo uno, 71 de 100 animales respondieron a la droga 1 con niveles menores presión arterial.\n",
    "En el grupo dos, 58 de 90 animales respondieron a la droga 2 con menores niveles de presión sanguínea. La compañia desea probar a un nivel de significancia de 0.05 **si existe una diferencia**en la eficacia de las dos medicinas.\n",
    "\n",
    "**Sea:**\n",
    "\n",
    "* $\\pi_1$= Proporcion de animales del grupo 1 que respondieron a la droga\n",
    "* $\\pi_2$= Proporcion de animales del grupo 2 que respondieron a la droga\n",
    "\n",
    "**Planteamos la hipotesis**\n",
    "* $H_0:\\pi_1=\\pi_2$\n",
    "* $H_1:\\pi_1\\neq\\pi_2$ \n",
    "\n",
    "**Se empleara:**\n",
    "\n",
    "Donde la proporcion ponderada $\\bar{p}$:\n",
    "$$\n",
    "\\bar{p}=\\frac{X_1+X_2}{n_1+n_2}\n",
    "$$\n",
    "$$\n",
    "Z_{c}=\\frac{p_{1}-p_{2}-(\\pi_{1}-\\pi_{2})_{hip}}{\\sqrt{\\bar{p}\\left(1-\\bar{p}\\right)\\left(\\frac{1}{n_{1}}+\\frac{1}{n_{2}}\\right)}}\n",
    "$$\n",
    "\n",
    "Los parámetros relevantes son:\n",
    "\n",
    "- Estadistico del grupo 1 ($X_1$) = 71\n",
    "- Tamaño de muestra ($n_1$) = 100\n",
    "- Estadistico del grupo 2 ($X_2$) = 58\n",
    "- Tamaño de muestra ($n_2$) = 90\n",
    "- Nivel de significancia $\\alpha$ = 0.05"
   ]
  },
  {
   "cell_type": "code",
   "execution_count": 17,
   "metadata": {},
   "outputs": [
    {
     "name": "stdout",
     "output_type": "stream",
     "text": [
      "Se acepta H0\n",
      "P= 0.6789\n",
      "Z calculado = 0.966\n",
      "Za1= 0.025\n",
      "Za2= 0.975\n",
      "Z1 tabla = -1.96\n",
      "Z2 tabla = 1.96\n"
     ]
    }
   ],
   "source": [
    "import scipy.stats as st\n",
    "import math\n",
    "\n",
    "# Asignando valores:\n",
    "X1 = 71\n",
    "X2 = 58\n",
    "n1 = 100\n",
    "n2 = 90\n",
    "a = 0.05\n",
    "Za1 = a/2\n",
    "Za2 = 1 - (a/2)\n",
    "Pi1=0\n",
    "Pi2=0\n",
    "p1 = X1/n1\n",
    "p2 = X2/n2\n",
    "\n",
    "# Calculamos la Proporcion Ponderada P\n",
    "P = round(((X1+X2)/(n1+n2)),4)\n",
    "\n",
    "# Reemplazamos en la formula\n",
    "Zc = round((p1 - p2 - (Pi1 - Pi2)) / math.sqrt(P*(1-P)*(1/n1 + 1/n2)), 3)\n",
    "\n",
    "# Calculamos Z\n",
    "Z1 = round((st.norm.ppf(Za1)),3)\n",
    "Z2 = round((st.norm.ppf(Za2)),3)\n",
    "\n",
    "# Como tenemos = entonces la aceptacion está en el centro\n",
    "if Zc > Z1 and Zc < Z2:\n",
    "    respuesta = \"Se acepta H0\"\n",
    "else:\n",
    "    respuesta = \"Se rechaza H0\"\n",
    "\n",
    "print(respuesta)\n",
    "print(\"P=\",P)\n",
    "print(\"Z calculado =\",Zc)\n",
    "print(\"Za1=\",Za1)\n",
    "print(\"Za2=\",Za2)\n",
    "print(\"Z1 tabla =\",Z1)\n",
    "print(\"Z2 tabla =\",Z2)"
   ]
  },
  {
   "cell_type": "markdown",
   "metadata": {},
   "source": [
    "Con un nivel de significacion de 0.05, en base a la evidencia muestral se acepta la H0. Por tanto no existen diferencias en la proporcion de animales del grupo 1 y 2 que respondieron a la droga."
   ]
  },
  {
   "cell_type": "markdown",
   "metadata": {},
   "source": [
    "# Prueba de Hipotesis de la varianza\n",
    "\n",
    "En Pamolsa se produce los frascos PET que generalmente son usados\n",
    "para almacenar los perfumes más prestigiosos de nuestro país. Se sabe que durante mucho tiempo los envases PET han tenido una medida del diámetro de la tapa cuya varianza era 4 milímetros.\n",
    "El nuevo gerente espera que haya disminuido la variabilidad del diámetro de la tapa. Para ello su asistente realiza una muestra aleatoria de 24 envases PET, encontrando una varianza de 4.9 milímetros. ¿Qué noticias le dará el asistente a su gerente? Use un nivel de significancia del 5% para realizar cualquier prueba.\n",
    "\n",
    "**Sea:**\n",
    "* $X_1$= Diametro de la tapa de PET\n",
    "\n",
    "**Planteamos la hipotesis**\n",
    "* $H_0:\\sigma^2\\geq4$\n",
    "* $H_1:\\sigma^2<4$ \n",
    "\n",
    "**Se empleara:**\n",
    "Grado de Libertad $gl$ ó $V$ = $n-1$\n",
    "$$\n",
    "X_{Cal}{}^2=\\frac{(n-1)S^2}{\\sigma^2_{Hip}}\n",
    "$$\n",
    "\n",
    "Los parámetros relevantes son:\n",
    "\n",
    "- Varianza poblacional ($\\sigma^2_{hip}$) = 4\n",
    "- Tamaño de muestra ($n$) = 24\n",
    "- Varianza muestral ($S^2$) = 4.9\n",
    "- Nivel de significancia $\\alpha$ = 0.05"
   ]
  },
  {
   "cell_type": "code",
   "execution_count": 3,
   "metadata": {},
   "outputs": [
    {
     "name": "stdout",
     "output_type": "stream",
     "text": [
      "Se rechaza H0\n",
      "Xc = 28.175\n",
      "X tabla = 35.1725\n"
     ]
    }
   ],
   "source": [
    "import scipy.stats as st\n",
    "import math\n",
    "\n",
    "# Asignando valores:\n",
    "o_2 = 4\n",
    "n = 24\n",
    "S_2 = 4.9\n",
    "a = 0.05\n",
    "\n",
    "# Reemplazamos en la formula\n",
    "Xc = round(((n-1)*S_2)/o_2,3)\n",
    "\n",
    "# Calculamos X en la tabla chi-Cuadrado\n",
    "Xt = round(st.chi2.ppf(1-a,n-1),4)\n",
    "\n",
    "# Debemos tener en cuenta el condicional, para poder calcular los valores de Z calculado\n",
    "# Como tenemos >= el rechazo esta a la izquierda\n",
    "if Xc>Xt:\n",
    "    respuesta=(\"Se acepta H0\")\n",
    "else:\n",
    "    respuesta=(\"Se rechaza H0\")\n",
    "\n",
    "print(respuesta)\n",
    "print(\"Xc =\",Xc)\n",
    "print(\"X tabla =\",Xt)"
   ]
  },
  {
   "cell_type": "markdown",
   "metadata": {},
   "source": [
    "# Prueba de Hipotesis de la varianza\n",
    "Anteriormente la desviación estándar de los pesos de los contenidos de cierto envase era 0,25 onzas, se trata de averiguar si ha habido aumentando dicha variabilidad, para esto se toma una muestra aleatoria de los contenidos de 20 envases encontrándose una desviación estándar de 0,30 onzas. Al nivel de significación del 5% ¿proporcionan los datos indicios suficientes que indique un aumento significativo de tal variabilidad?. Suponer que dichos pesos están normalmente distribuidos.\n",
    "\n",
    "**Sea:**\n",
    "* $X_1$= Peso del contenido del envase.\n",
    "\n",
    "**Planteamos la hipotesis**\n",
    "* $H_0:\\sigma^2\\leq0.25$\n",
    "* $H_1:\\sigma^2>0.25$ \n",
    "\n",
    "**Se empleara:**\n",
    "Grados de Libertad $gl$ ó $V$ = $n-1$\n",
    "$$\n",
    "X_{Cal}{}^2=\\frac{(n-1)S^2}{\\sigma^2_{Hip}}\n",
    "$$\n",
    "\n",
    "Los parámetros relevantes son:\n",
    "\n",
    "- Desviacion Estandar poblacional ($\\sigma$) = 0.25\n",
    "- Tamaño de muestra ($n$) = 20\n",
    "- Desviacion estandar muestral ($S$) = 0.3\n",
    "- Nivel de significancia $\\alpha$ = 0.05"
   ]
  },
  {
   "cell_type": "code",
   "execution_count": 4,
   "metadata": {},
   "outputs": [
    {
     "name": "stdout",
     "output_type": "stream",
     "text": [
      "Se acepta H0\n",
      "Xc = 27.36\n",
      "X tabla = 30.1435\n"
     ]
    }
   ],
   "source": [
    "import scipy.stats as st\n",
    "import math\n",
    "\n",
    "# Asignando valores:\n",
    "n = 20\n",
    "S = 0.3\n",
    "a = 0.05\n",
    "o = 0.25\n",
    "\n",
    "# Reemplazamos en la formula\n",
    "Xc = round(((n-1)*S**2)/o**2,3)\n",
    "\n",
    "# Calculamos X en la tabla chi-Cuadrado\n",
    "Xt = round(st.chi2.ppf(1-a,n-1),4)\n",
    "\n",
    "# Debemos tener en cuenta el condicional, para poder calcular los valores de Z calculado\n",
    "# Como tenemos <= el rechazo esta a la derecha\n",
    "if Xc<Xt:\n",
    "    respuesta=(\"Se acepta H0\")\n",
    "else:\n",
    "    respuesta=(\"Se rechaza H0\")\n",
    "\n",
    "print(respuesta)\n",
    "print(\"Xc =\",Xc)\n",
    "print(\"X tabla =\",Xt)"
   ]
  },
  {
   "cell_type": "markdown",
   "metadata": {},
   "source": [
    "Con un mvel de significacion de 0.05, en base a evidencia muestral se puede a afirmar que la variabilidad de los pesos de los envases ha disminuido."
   ]
  }
 ],
 "metadata": {
  "kernelspec": {
   "display_name": "Python 3",
   "language": "python",
   "name": "python3"
  },
  "language_info": {
   "codemirror_mode": {
    "name": "ipython",
    "version": 3
   },
   "file_extension": ".py",
   "mimetype": "text/x-python",
   "name": "python",
   "nbconvert_exporter": "python",
   "pygments_lexer": "ipython3",
   "version": "3.11.5"
  }
 },
 "nbformat": 4,
 "nbformat_minor": 2
}
